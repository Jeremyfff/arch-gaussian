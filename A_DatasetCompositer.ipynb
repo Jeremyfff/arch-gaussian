{
 "cells": [
  {
   "cell_type": "code",
   "execution_count": null,
   "metadata": {
    "collapsed": true,
    "ExecuteTime": {
     "start_time": "2023-12-22T15:34:29.599856Z",
     "end_time": "2023-12-22T15:34:29.684112Z"
    }
   },
   "outputs": [],
   "source": [
    "from PIL import Image\n",
    "import os\n",
    "import glob\n",
    "import numpy as np\n",
    "\n"
   ]
  },
  {
   "cell_type": "code",
   "execution_count": null,
   "outputs": [],
   "source": [
    "BG_PATH = r\"C:\\Users\\Administrator\\Downloads\\shenshuibu dataset\\2\"\n",
    "FG_PATH = r\"C:\\Users\\Administrator\\Downloads\\shenshuibu dataset\\4\"\n",
    "MASK1_PATH = r\"C:\\Users\\Administrator\\Downloads\\shenshuibu dataset\\3\"\n",
    "MASK2_PATH = r\"C:\\Users\\Administrator\\Downloads\\shenshuibu dataset\\5\"\n",
    "SAVE_PATH = r\"C:\\Users\\Administrator\\Downloads\\shenshuibu dataset\\composite\"\n",
    "if not os.path.exists(SAVE_PATH):\n",
    "    os.makedirs(SAVE_PATH)"
   ],
   "metadata": {
    "collapsed": false,
    "ExecuteTime": {
     "start_time": "2023-12-22T15:46:42.260776Z",
     "end_time": "2023-12-22T15:46:42.272583Z"
    }
   }
  },
  {
   "cell_type": "code",
   "execution_count": null,
   "outputs": [],
   "source": [
    "def glob_files(path, extension='jpg'):\n",
    "    # 获取文件夹下所有 JPG 文件的路径\n",
    "    files = glob.glob(os.path.join(path, f'*.{extension}'))\n",
    "    # 按照文件名顺序进行排序\n",
    "    sorted_files = sorted(files)\n",
    "    return sorted_files\n",
    "\n",
    "bg_files = glob_files(BG_PATH)\n",
    "fg_files = glob_files(FG_PATH)\n",
    "mask1_files = glob_files(MASK1_PATH)\n",
    "mask2_files = glob_files(MASK2_PATH)"
   ],
   "metadata": {
    "collapsed": false,
    "ExecuteTime": {
     "start_time": "2023-12-22T15:34:31.320483Z",
     "end_time": "2023-12-22T15:34:31.334252Z"
    }
   }
  },
  {
   "cell_type": "code",
   "execution_count": null,
   "outputs": [],
   "source": [
    "for i in range(len(bg_files)):\n",
    "    bg_image = Image.open(bg_files[i])\n",
    "    fg_image = Image.open(fg_files[i])\n",
    "    mask1_image = Image.open(mask1_files[i]).convert('L')\n",
    "    mask2_image = Image.open(mask2_files[i]).convert('L')\n",
    "\n",
    "    mask1_array = np.array(mask1_image)\n",
    "    mask2_array = np.array(mask2_image)\n",
    "    mask_array = np.bitwise_and(mask1_array, mask2_array)\n",
    "    mask_image = Image.fromarray(mask_array)\n",
    "\n",
    "    fg_rgba = fg_image.convert(\"RGBA\")\n",
    "    fg_rgba.putalpha(mask_image)\n",
    "\n",
    "    result_image = Image.alpha_composite(bg_image.convert(\"RGBA\"), fg_rgba).convert(\"RGB\")\n",
    "    result_image.save(os.path.join(SAVE_PATH, f\"{i:5d}.jpg\"))\n"
   ],
   "metadata": {
    "collapsed": false,
    "ExecuteTime": {
     "start_time": "2023-12-22T15:46:45.462321Z",
     "end_time": "2023-12-22T15:46:49.306363Z"
    }
   }
  },
  {
   "cell_type": "code",
   "execution_count": null,
   "outputs": [],
   "source": [],
   "metadata": {
    "collapsed": false,
    "ExecuteTime": {
     "start_time": "2023-12-22T15:24:22.914512Z",
     "end_time": "2023-12-22T15:24:22.918017Z"
    }
   }
  },
  {
   "cell_type": "code",
   "execution_count": null,
   "outputs": [],
   "source": [],
   "metadata": {
    "collapsed": false
   }
  }
 ],
 "metadata": {
  "kernelspec": {
   "display_name": "Python 3",
   "language": "python",
   "name": "python3"
  },
  "language_info": {
   "codemirror_mode": {
    "name": "ipython",
    "version": 2
   },
   "file_extension": ".py",
   "mimetype": "text/x-python",
   "name": "python",
   "nbconvert_exporter": "python",
   "pygments_lexer": "ipython2",
   "version": "2.7.6"
  }
 },
 "nbformat": 4,
 "nbformat_minor": 0
}
