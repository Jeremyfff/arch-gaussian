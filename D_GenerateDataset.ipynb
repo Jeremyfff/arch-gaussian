{
 "cells": [
  {
   "cell_type": "code",
   "execution_count": null,
   "metadata": {
    "collapsed": true,
    "ExecuteTime": {
     "start_time": "2023-12-04T17:13:48.388490Z",
     "end_time": "2023-12-04T17:13:48.417488Z"
    }
   },
   "outputs": [],
   "source": [
    "import os\n",
    "print(f\"当前目录: {os.getcwd()}\")\n",
    "if 'arch-gaussian' in os.listdir():\n",
    "    JUPYTER_ROOT = os.getcwd()\n",
    "    os.chdir('arch-gaussian')\n",
    "    print(f\"更改后的目录: {os.getcwd()}\")"
   ]
  },
  {
   "cell_type": "code",
   "execution_count": null,
   "outputs": [],
   "source": [
    "import config\n",
    "# 基础设置\n",
    "config.scene_name = \"TestCity7\" # 输入文件夹名称\n",
    "config.output_name = \"\"  # 输出文件夹名称\n",
    "config.sh_degree = 3  # 0~3， 改为0可以缩小文件大小，但是无法被现有的unity工具识别， 推荐使用默认3\n",
    "config.epochs = 0  # 训练轮次， 3000， 7000， 15000， 30000\n",
    "config.loaded_iter = 3000 # 加载训练好的模型\n",
    "# 高级设置\n",
    "config.resolution = 1 # 是否压缩图像，1为原尺寸，-1为自动压缩到不大于1600像素， 支持2的次方的数字\n",
    "config.densify_until_iter = 15000  # 致密化结束的轮次\n",
    "config.densify_grad_threshold = 0.0002  # 致密化的阈值，越小增加的越快\n",
    "\n",
    "# 配置结束，更新配置文件\n",
    "config.update_colmap_args()\n",
    "config.update_args()\n",
    "\n",
    "# 打印修改过后的参数\n",
    "config.print_updated_colmap_args()\n",
    "config.print_updated_args()\n"
   ],
   "metadata": {
    "collapsed": false,
    "ExecuteTime": {
     "start_time": "2023-12-04T17:17:08.501515Z",
     "end_time": "2023-12-04T17:17:08.510514Z"
    }
   }
  },
  {
   "cell_type": "code",
   "execution_count": null,
   "outputs": [],
   "source": [
    "%load_ext autoreload\n",
    "%autoreload 2\n",
    "import sys\n",
    "sys.path.append(\"./src\")\n",
    "import os\n",
    "import torch\n",
    "import numpy as np\n",
    "np.set_printoptions(suppress=True)\n",
    "from config import args  # 正式导入args"
   ],
   "metadata": {
    "collapsed": false,
    "ExecuteTime": {
     "start_time": "2023-12-04T17:18:52.806244Z",
     "end_time": "2023-12-04T17:18:52.875243Z"
    }
   }
  },
  {
   "cell_type": "code",
   "execution_count": null,
   "outputs": [],
   "source": [
    "# 创建scene info\n",
    "from manager.scene_manager import load_and_fix_scene\n",
    "\n",
    "scene_info = load_and_fix_scene(args)"
   ],
   "metadata": {
    "collapsed": false,
    "ExecuteTime": {
     "start_time": "2023-12-04T17:18:53.531376Z",
     "end_time": "2023-12-04T17:18:54.219933Z"
    }
   }
  },
  {
   "cell_type": "code",
   "execution_count": null,
   "outputs": [],
   "source": [
    "from manager.camera_manager import CameraManager\n",
    "cm = CameraManager()\n",
    "train_cameras, test_cameras = cm.create_cameras(args, scene_info)\n"
   ],
   "metadata": {
    "collapsed": false,
    "ExecuteTime": {
     "start_time": "2023-12-04T17:18:54.433545Z",
     "end_time": "2023-12-04T17:18:56.278482Z"
    }
   }
  },
  {
   "cell_type": "code",
   "execution_count": null,
   "outputs": [],
   "source": [
    "from manager.gaussian_manager import create_gaussian_from_ply, create_gaussian_from_scene_info\n",
    "if args.loaded_iter:\n",
    "    print(\"Creating gaussians from ply\")\n",
    "    gaussians = create_gaussian_from_ply(args.sh_degree, os.path.join(args.model_path,\"point_cloud\", \"iteration_\" + str(args.loaded_iter),\"point_cloud.ply\"))\n",
    "else:\n",
    "    print(\"Creating gaussians from scene info\")\n",
    "    gaussians = create_gaussian_from_scene_info(args.sh_degree, scene_info)\n",
    "\n",
    "print(f\"num points: {gaussians.get_xyz.shape[0]}\")"
   ],
   "metadata": {
    "collapsed": false,
    "ExecuteTime": {
     "start_time": "2023-12-04T17:18:56.667038Z",
     "end_time": "2023-12-04T17:18:57.166613Z"
    }
   }
  },
  {
   "cell_type": "markdown",
   "source": [
    "## 使用封装好的Gaussian Manager管理gaussian"
   ],
   "metadata": {
    "collapsed": false
   }
  },
  {
   "cell_type": "code",
   "execution_count": null,
   "outputs": [],
   "source": [
    "from manager.gaussian_manager import GaussianManager\n",
    "gm = GaussianManager(args, gaussians) # 从gaussians创建GaussianManager\n",
    "cam = cm.pick_camera(0)\n",
    "image = gm.render(cam, convert_to_pil=True)\n",
    "image"
   ],
   "metadata": {
    "collapsed": false,
    "ExecuteTime": {
     "start_time": "2023-12-04T17:18:58.943504Z",
     "end_time": "2023-12-04T17:18:59.660583Z"
    }
   }
  },
  {
   "cell_type": "code",
   "execution_count": null,
   "outputs": [],
   "source": [
    "from manager.display_manager import Box, Geometry, Drawer\n",
    "bbox = (np.array([-0.5,0,-2]), np.array([0.5,0.5,-1.9]))\n",
    "\n",
    "mask = gm.position_mask(*bbox)\n",
    "\n",
    "box = Box(*bbox)\n",
    "box.line_width = 29\n",
    "drawer = Drawer()\n",
    "drawer.add_geometry(box)\n",
    "\n",
    "with gm.virtual():\n",
    "\n",
    "    gm.paint_by_mask(mask)\n",
    "    image = gm.render(cam, convert_to_pil= True)\n",
    "    image = drawer.draw(cam, image,overwrite=True)\n",
    "image"
   ],
   "metadata": {
    "collapsed": false
   }
  }
 ],
 "metadata": {
  "kernelspec": {
   "display_name": "Python 3",
   "language": "python",
   "name": "python3"
  },
  "language_info": {
   "codemirror_mode": {
    "name": "ipython",
    "version": 2
   },
   "file_extension": ".py",
   "mimetype": "text/x-python",
   "name": "python",
   "nbconvert_exporter": "python",
   "pygments_lexer": "ipython2",
   "version": "2.7.6"
  }
 },
 "nbformat": 4,
 "nbformat_minor": 0
}
