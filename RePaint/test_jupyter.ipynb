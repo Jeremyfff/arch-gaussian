{
 "cells": [
  {
   "cell_type": "code",
   "id": "initial_id",
   "metadata": {
    "collapsed": true
   },
   "source": [
    "import os\n",
    "import argparse\n",
    "\n",
    "import numpy as np\n",
    "import torch as th\n",
    "import torch.nn.functional as F\n",
    "import time\n",
    "from RePaint import conf_mgt\n",
    "from RePaint.utils import yamlread\n",
    "from RePaint.guided_diffusion import dist_util"
   ],
   "outputs": [],
   "execution_count": null
  },
  {
   "metadata": {},
   "cell_type": "code",
   "source": [
    "print(os.getcwd())\n",
    "os.chdir(\"..\")\n",
    "print(os.getcwd())"
   ],
   "id": "a1bad21949a07f0a",
   "outputs": [],
   "execution_count": null
  },
  {
   "metadata": {},
   "cell_type": "code",
   "source": [
    "from RePaint.guided_diffusion.script_util import (\n",
    "    NUM_CLASSES,\n",
    "    model_and_diffusion_defaults,\n",
    "    classifier_defaults,\n",
    "    create_model_and_diffusion,\n",
    "    create_classifier,\n",
    "    select_args,\n",
    ")  # noqa: E402"
   ],
   "id": "40d97194af636ef4",
   "outputs": [],
   "execution_count": null
  },
  {
   "metadata": {},
   "cell_type": "code",
   "source": [
    "def toU8(sample):\n",
    "    if sample is None:\n",
    "        return sample\n",
    "\n",
    "    sample = ((sample + 1) * 127.5).clamp(0, 255).to(th.uint8)\n",
    "    sample = sample.permute(0, 2, 3, 1)\n",
    "    sample = sample.contiguous()\n",
    "    sample = sample.detach().cpu().numpy()\n",
    "    return sample\n"
   ],
   "id": "1b33e945287c78ec",
   "outputs": [],
   "execution_count": null
  },
  {
   "metadata": {},
   "cell_type": "markdown",
   "source": "## conf",
   "id": "f140d856853c687"
  },
  {
   "metadata": {},
   "cell_type": "code",
   "source": [
    "conf_path = \"./Repaint/confs/test.yml\"\n",
    "conf = conf_mgt.conf_base.Default_Conf()\n",
    "conf.update(yamlread(conf_path))"
   ],
   "id": "ade46e2220295a3e",
   "outputs": [],
   "execution_count": null
  },
  {
   "metadata": {},
   "cell_type": "code",
   "source": "",
   "id": "3742b21378f4dc2e",
   "outputs": [],
   "execution_count": null
  },
  {
   "metadata": {},
   "cell_type": "markdown",
   "source": "## main",
   "id": "e069e9aec1bfd701"
  },
  {
   "metadata": {},
   "cell_type": "code",
   "source": [
    "device = dist_util.dev(conf.get('device'))\n",
    "print(device)"
   ],
   "id": "d2da33573b171ab6",
   "outputs": [],
   "execution_count": null
  },
  {
   "metadata": {},
   "cell_type": "code",
   "source": [
    "model, diffusion = create_model_and_diffusion(\n",
    "    **select_args(conf, model_and_diffusion_defaults().keys()), conf=conf\n",
    ")\n",
    "model.load_state_dict(\n",
    "    dist_util.load_state_dict(os.path.expanduser(\n",
    "        conf.model_path), map_location=\"cpu\")\n",
    ")\n",
    "model.to(device)\n",
    "print(conf.use_fp16)\n",
    "if conf.use_fp16:\n",
    "    model.convert_to_fp16()\n",
    "model.eval()\n",
    "show_progress = conf.show_progress"
   ],
   "id": "87a88a0cc46b46f2",
   "outputs": [],
   "execution_count": null
  },
  {
   "metadata": {},
   "cell_type": "code",
   "source": [
    "def model_fn(x, t, y=None, gt=None, **kwargs):\n",
    "    assert y is not None\n",
    "    return model(x, t, y if conf.class_cond else None, gt=gt)\n"
   ],
   "id": "469cef74fdbfd3f1",
   "outputs": [],
   "execution_count": null
  },
  {
   "metadata": {},
   "cell_type": "code",
   "source": [
    "dset = 'eval'\n",
    "eval_name = conf.get_default_eval_name()\n",
    "print(f\"eval_name = {eval_name}\")\n",
    "\n",
    "dl = conf.get_dataloader(dset=dset, dsName=eval_name)"
   ],
   "id": "a64dffb0f0bf5bd0",
   "outputs": [],
   "execution_count": null
  },
  {
   "metadata": {},
   "cell_type": "markdown",
   "source": "### one loop",
   "id": "111d228571d2f8aa"
  },
  {
   "metadata": {},
   "cell_type": "code",
   "source": [
    "batch = next(iter(dl))\n",
    "print(batch.keys())"
   ],
   "id": "b7c5b0c0e40f899a",
   "outputs": [],
   "execution_count": null
  },
  {
   "metadata": {},
   "cell_type": "code",
   "source": [
    "print(batch['GT'].shape)\n",
    "print(batch['GT'].device)"
   ],
   "id": "6d9a462bd375d799",
   "outputs": [],
   "execution_count": null
  },
  {
   "metadata": {},
   "cell_type": "code",
   "source": [
    "from PIL import Image\n",
    "import numpy as np\n",
    "\n",
    "def tensor_to_image(tensor: th.Tensor):\n",
    "    img_arr = tensor.detach().cpu().squeeze().numpy() * 0.5 + 0.5  # remap to 0 to 1\n",
    "    pil_image = Image.fromarray((img_arr * 255).astype('uint8').transpose((1, 2, 0)))\n",
    "    return pil_image\n",
    "\n",
    "tensor_to_image(batch['GT'])"
   ],
   "id": "feeb20e46be3ae48",
   "outputs": [],
   "execution_count": null
  },
  {
   "metadata": {},
   "cell_type": "code",
   "source": [
    "for k in batch.keys():\n",
    "    if isinstance(batch[k], th.Tensor):\n",
    "        batch[k] = batch[k].to(device)\n"
   ],
   "id": "e54823403bc893ba",
   "outputs": [],
   "execution_count": null
  },
  {
   "metadata": {},
   "cell_type": "code",
   "source": "print(batch['GT'].device)",
   "id": "e7fb28d310068f5c",
   "outputs": [],
   "execution_count": null
  },
  {
   "metadata": {},
   "cell_type": "code",
   "source": [
    "model_kwargs = {}\n",
    "\n",
    "model_kwargs[\"gt\"] = batch['GT']\n",
    "\n",
    "gt_keep_mask = batch.get('gt_keep_mask')\n",
    "if gt_keep_mask is not None:\n",
    "    model_kwargs['gt_keep_mask'] = gt_keep_mask\n",
    "\n",
    "batch_size = model_kwargs[\"gt\"].shape[0]\n",
    "\n",
    "if conf.cond_y is not None:\n",
    "    print(f\"conf cond_y is not None\")\n",
    "    classes = th.ones(batch_size, dtype=th.long, device=device)\n",
    "    model_kwargs[\"y\"] = classes * conf.cond_y\n",
    "else:\n",
    "    print(f\"conf cond_y is None\")\n",
    "    classes = th.randint(\n",
    "        low=0, high=NUM_CLASSES, size=(batch_size,), device=device\n",
    "    )\n",
    "    print(classes)\n",
    "    model_kwargs[\"y\"] = classes\n",
    "model_kwargs.keys()"
   ],
   "id": "304d0784bde6ed1f",
   "outputs": [],
   "execution_count": null
  },
  {
   "metadata": {},
   "cell_type": "code",
   "source": [
    "print(f\"use_ddim = {conf.use_ddim}\")\n",
    "sample_fn = (\n",
    "    diffusion.p_sample_loop if not conf.use_ddim else diffusion.ddim_sample_loop\n",
    ")\n"
   ],
   "id": "4790a8561bb995dc",
   "outputs": [],
   "execution_count": null
  },
  {
   "metadata": {},
   "cell_type": "code",
   "source": [
    "# full loop\n",
    "result = sample_fn(\n",
    "    model_fn,\n",
    "    (batch_size, 3, conf.image_size, conf.image_size),\n",
    "    clip_denoised=conf.clip_denoised,\n",
    "    model_kwargs=model_kwargs,\n",
    "    cond_fn=None,\n",
    "    device=device,\n",
    "    progress=show_progress,\n",
    "    return_all=True,\n",
    "    conf=conf\n",
    ")"
   ],
   "id": "5bb546a19b7d5167",
   "outputs": [],
   "execution_count": null
  },
  {
   "metadata": {},
   "cell_type": "code",
   "source": "result.keys()",
   "id": "b9ce585a18fd0f9f",
   "outputs": [],
   "execution_count": null
  },
  {
   "metadata": {},
   "cell_type": "markdown",
   "source": "### sample_fn 拆解",
   "id": "3fd8e06f17579815"
  },
  {
   "metadata": {},
   "cell_type": "code",
   "source": [
    "shape = (batch_size, 3, conf.image_size, conf.image_size)\n",
    "print(shape)"
   ],
   "id": "c2f0f795439ddf88",
   "outputs": [],
   "execution_count": null
  },
  {
   "metadata": {},
   "cell_type": "code",
   "source": [
    "image_after_step = th.randn(*shape, device=device)\n",
    "print(th.min(image_after_step))\n",
    "print(th.max(image_after_step))\n",
    "tensor_to_image(image_after_step)"
   ],
   "id": "80c5c73be0d94464",
   "outputs": [],
   "execution_count": null
  },
  {
   "metadata": {},
   "cell_type": "markdown",
   "source": "",
   "id": "ac96adb58754fcd5"
  },
  {
   "metadata": {},
   "cell_type": "code",
   "source": "pred_xstart = None",
   "id": "6db1f8ddc8088dbe",
   "outputs": [],
   "execution_count": null
  },
  {
   "metadata": {},
   "cell_type": "code",
   "source": [
    "from RePaint.guided_diffusion.scheduler import get_schedule_jump\n",
    "times = get_schedule_jump(**conf.schedule_jump_params)\n",
    "time_pairs = list(zip(times[:-1], times[1: ]))\n",
    "print(len(time_pairs))"
   ],
   "id": "65477afbbfdb22a5",
   "outputs": [],
   "execution_count": null
  },
  {
   "metadata": {},
   "cell_type": "code",
   "source": [
    "t_last, t_cur = time_pairs[0]\n",
    "print(t_last, t_cur)"
   ],
   "id": "b928ba9ae4d88772",
   "outputs": [],
   "execution_count": null
  },
  {
   "metadata": {},
   "cell_type": "code",
   "source": [
    "t_last_t = th.tensor([t_last] * shape[0], device=device)\n",
    "t_last_t"
   ],
   "id": "7c9f4e5bab640166",
   "outputs": [],
   "execution_count": null
  },
  {
   "metadata": {},
   "cell_type": "code",
   "source": [
    "\n",
    "with th.no_grad():\n",
    "    out = diffusion.p_sample(\n",
    "        model,\n",
    "        image_after_step,\n",
    "        t_last_t,\n",
    "        clip_denoised=True,\n",
    "        denoised_fn=None,\n",
    "        cond_fn=None,\n",
    "        model_kwargs=model_kwargs,\n",
    "        conf=conf,\n",
    "        pred_xstart=pred_xstart\n",
    "    )\n"
   ],
   "id": "18369faa8c92bc5b",
   "outputs": [],
   "execution_count": null
  },
  {
   "metadata": {},
   "cell_type": "code",
   "source": "tensor_to_image(out[\"pred_xstart\"])",
   "id": "dac865a4af4d5ef4",
   "outputs": [],
   "execution_count": null
  },
  {
   "metadata": {},
   "cell_type": "code",
   "source": "tensor_to_image(out['sample'])",
   "id": "803cb0619184e13f",
   "outputs": [],
   "execution_count": null
  },
  {
   "metadata": {},
   "cell_type": "code",
   "source": [
    "image_after_step = out[\"sample\"]\n",
    "pred_xstart = out[\"pred_xstart\"]"
   ],
   "id": "b463561b88980717",
   "outputs": [],
   "execution_count": null
  },
  {
   "metadata": {},
   "cell_type": "markdown",
   "source": "## 继续分解",
   "id": "5ef2215c1418a4ba"
  },
  {
   "metadata": {},
   "cell_type": "code",
   "source": [
    "noise = th.randn_like(image_after_step)\n",
    "tensor_to_image(noise)"
   ],
   "id": "c0b2d854c46db1c9",
   "outputs": [],
   "execution_count": null
  },
  {
   "metadata": {},
   "cell_type": "code",
   "source": [
    "gt_keep_mask = model_kwargs.get('gt_keep_mask')\n",
    "tensor_to_image(gt_keep_mask)"
   ],
   "id": "c159410bc6f50b6",
   "outputs": [],
   "execution_count": null
  },
  {
   "metadata": {},
   "cell_type": "code",
   "source": [
    "gt = model_kwargs['gt']\n",
    "tensor_to_image(gt)"
   ],
   "id": "15ae425f0b7d353e",
   "outputs": [],
   "execution_count": null
  },
  {
   "metadata": {},
   "cell_type": "code",
   "source": [
    "from RePaint.guided_diffusion.gaussian_diffusion import _extract_into_tensor\n",
    "print(diffusion.alphas_cumprod.shape)\n",
    "print(t_last_t)\n",
    "alpha_cumprod = _extract_into_tensor(diffusion.alphas_cumprod, t_last_t, image_after_step.shape)\n",
    "tensor_to_image(alpha_cumprod)\n",
    "print(th.min(alpha_cumprod))\n",
    "print(th.max(alpha_cumprod))"
   ],
   "id": "f7d32738a01a5565",
   "outputs": [],
   "execution_count": null
  },
  {
   "metadata": {},
   "cell_type": "code",
   "source": [
    "print(conf.inpa_inj_sched_prev_cumnoise)\n",
    "if conf.inpa_inj_sched_prev_cumnoise:\n",
    "    \n",
    "    weighed_gt = diffusion.get_gt_noised(gt, int(t_last_t[0].item()))\n",
    "else:\n",
    "    gt_weight = th.sqrt(alpha_cumprod)\n",
    "    print(f\"gt_weight = {th.min(gt_weight)}\")\n",
    "    gt_part = gt_weight * gt\n",
    "\n",
    "    noise_weight = th.sqrt((1 - alpha_cumprod))\n",
    "    print(f\"noise_weight = {th.min(noise_weight)}\")\n",
    "    noise_part = noise_weight * th.randn_like(image_after_step)\n",
    "\n",
    "    weighed_gt = gt_part + noise_part\n",
    "tensor_to_image(weighed_gt)\n"
   ],
   "id": "dbdd79d1a1115358",
   "outputs": [],
   "execution_count": null
  },
  {
   "metadata": {},
   "cell_type": "code",
   "source": [
    "\n",
    "x = (\n",
    "    gt_keep_mask * (\n",
    "        weighed_gt\n",
    "    )\n",
    "    +\n",
    "    (1 - gt_keep_mask) * (\n",
    "        image_after_step\n",
    "    )\n",
    ")\n",
    "tensor_to_image(x)"
   ],
   "id": "e4bc9d8bcb35599e",
   "outputs": [],
   "execution_count": null
  },
  {
   "metadata": {},
   "cell_type": "code",
   "source": [
    "out = diffusion.p_mean_variance(\n",
    "            model,\n",
    "            x,\n",
    "            t_last_t,\n",
    "            clip_denoised=None,\n",
    "            denoised_fn=None,\n",
    "            model_kwargs=model_kwargs,\n",
    "        )\n",
    "print(out.keys())"
   ],
   "id": "c8f20b4223e47bca",
   "outputs": [],
   "execution_count": null
  },
  {
   "metadata": {},
   "cell_type": "code",
   "source": "tensor_to_image(out['pred_xstart'])",
   "id": "2e3877a24d4ba0e7",
   "outputs": [],
   "execution_count": null
  },
  {
   "metadata": {},
   "cell_type": "code",
   "source": [
    "nonzero_mask = (\n",
    "    (t_last_t != 0).float().view(-1, *([1] * (len(x.shape) - 1)))\n",
    ") \n"
   ],
   "id": "7dab59b7631865d8",
   "outputs": [],
   "execution_count": null
  },
  {
   "metadata": {},
   "cell_type": "code",
   "source": [
    "sample = out[\"mean\"] + nonzero_mask * th.exp(0.5 * out[\"log_variance\"]) * noise\n",
    "tensor_to_image(sample)"
   ],
   "id": "2b8f45e43dd8f30d",
   "outputs": [],
   "execution_count": null
  },
  {
   "metadata": {},
   "cell_type": "code",
   "source": "",
   "id": "264e51070679508",
   "outputs": [],
   "execution_count": null
  }
 ],
 "metadata": {
  "kernelspec": {
   "display_name": "Python 3",
   "language": "python",
   "name": "python3"
  },
  "language_info": {
   "codemirror_mode": {
    "name": "ipython",
    "version": 2
   },
   "file_extension": ".py",
   "mimetype": "text/x-python",
   "name": "python",
   "nbconvert_exporter": "python",
   "pygments_lexer": "ipython2",
   "version": "2.7.6"
  }
 },
 "nbformat": 4,
 "nbformat_minor": 5
}
