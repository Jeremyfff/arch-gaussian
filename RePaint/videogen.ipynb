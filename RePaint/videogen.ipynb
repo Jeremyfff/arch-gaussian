{
 "cells": [
  {
   "cell_type": "code",
   "execution_count": null,
   "id": "initial_id",
   "metadata": {
    "collapsed": true
   },
   "outputs": [],
   "source": [
    ""
   ]
  },
  {
   "metadata": {
    "ExecuteTime": {
     "end_time": "2024-11-13T15:47:07.083322Z",
     "start_time": "2024-11-13T15:47:05.789038Z"
    }
   },
   "cell_type": "code",
   "source": [
    "import cv2\n",
    "import os\n",
    "\n",
    "# 指定文件夹路径\n",
    "folder_path = \"../RePaint/log/debug/20241113_2001\"\n",
    "\n",
    "# 获取文件夹中所有图片文件名并按序号排序\n",
    "image_files = [f for f in os.listdir(folder_path) if f.endswith(('.jpg', '.jpeg', '.png'))]\n",
    "image_files.sort(key=lambda x: int(x.split('.')[0]))  # 假设文件名为数字序号.jpg（例如，1.jpg, 2.jpg, ...）\n",
    "\n",
    "# 获取第一张图像的尺寸\n",
    "first_image = cv2.imread(os.path.join(folder_path, image_files[0]))\n",
    "height, width, _ = first_image.shape\n",
    "\n",
    "# 指定输出视频文件名和参数\n",
    "output_video = cv2.VideoWriter('output_video.mp4', cv2.VideoWriter_fourcc(*'mp4v'), 30, (width, height))\n",
    "\n",
    "# 逐一读取图片并写入视频\n",
    "for image_file in image_files:\n",
    "    image_path = os.path.join(folder_path, image_file)\n",
    "    frame = cv2.imread(image_path)\n",
    "    output_video.write(frame)\n",
    "\n",
    "# 释放资源\n",
    "output_video.release()\n",
    "\n",
    "print(\"视频生成完成！\")"
   ],
   "id": "1492afa810ade623",
   "outputs": [
    {
     "name": "stdout",
     "output_type": "stream",
     "text": [
      "视频生成完成！\n"
     ]
    }
   ],
   "execution_count": 3
  }
 ],
 "metadata": {
  "kernelspec": {
   "display_name": "Python 3",
   "language": "python",
   "name": "python3"
  },
  "language_info": {
   "codemirror_mode": {
    "name": "ipython",
    "version": 2
   },
   "file_extension": ".py",
   "mimetype": "text/x-python",
   "name": "python",
   "nbconvert_exporter": "python",
   "pygments_lexer": "ipython2",
   "version": "2.7.6"
  }
 },
 "nbformat": 4,
 "nbformat_minor": 5
}
