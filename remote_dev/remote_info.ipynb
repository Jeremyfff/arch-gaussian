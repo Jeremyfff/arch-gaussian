{
 "cells": [
  {
   "cell_type": "code",
   "execution_count": 3,
   "metadata": {
    "ExecuteTime": {
     "end_time": "2023-11-21T18:24:46.510420Z",
     "start_time": "2023-11-21T18:24:44.551752Z"
    },
    "collapsed": true
   },
   "outputs": [
    {
     "name": "stdout",
     "output_type": "stream",
     "text": [
      "True\n"
     ]
    }
   ],
   "source": [
    "import torch\n",
    "print(torch.cuda.is_available())"
   ]
  },
  {
   "cell_type": "code",
   "execution_count": 4,
   "metadata": {
    "ExecuteTime": {
     "end_time": "2023-11-21T18:24:55.034236Z",
     "start_time": "2023-11-21T18:24:55.023231Z"
    },
    "collapsed": false
   },
   "outputs": [],
   "source": [
    "#%pip install pynvml"
   ]
  },
  {
   "cell_type": "code",
   "execution_count": 1,
   "metadata": {
    "ExecuteTime": {
     "end_time": "2023-11-21T18:25:06.263212Z",
     "start_time": "2023-11-21T18:25:06.227211Z"
    },
    "collapsed": false
   },
   "outputs": [
    {
     "name": "stdout",
     "output_type": "stream",
     "text": [
      "当前显卡显存使用情况：总共 23.99 GB， 已经使用 5.77 GB， 使用百分比 24.04%\n",
      "当前机器内存使用情况：总共 31.82 GB， 剩余 16.67 GB, 当前进程使用的内存 0.07 GB, 使用百分比 47.60%\n"
     ]
    }
   ],
   "source": [
    "import psutil\n",
    "import os\n",
    "import pynvml\n",
    "def get_gpu_mem_info(gpu_id=0):\n",
    "    \"\"\"\n",
    "    根据显卡 id 获取显存使用信息, 单位 MB\n",
    "    :param gpu_id: 显卡 ID\n",
    "    :return: total 所有的显存，used 当前使用的显存, free 可使用的显存\n",
    "    \"\"\"\n",
    "    pynvml.nvmlInit()\n",
    "    if gpu_id < 0 or gpu_id >= pynvml.nvmlDeviceGetCount():\n",
    "        print(r'gpu_id {} 对应的显卡不存在!'.format(gpu_id))\n",
    "        return 0, 0, 0\n",
    "\n",
    "    handler = pynvml.nvmlDeviceGetHandleByIndex(gpu_id)\n",
    "    meminfo = pynvml.nvmlDeviceGetMemoryInfo(handler)\n",
    "    total = round(meminfo.total / 1024 / 1024, 2)\n",
    "    used = round(meminfo.used / 1024 / 1024, 2)\n",
    "    free = round(meminfo.free / 1024 / 1024, 2)\n",
    "    return total, used, free\n",
    "def get_cpu_mem_info():\n",
    "    \"\"\"\n",
    "    获取当前机器的内存信息, 单位 MB\n",
    "    :return: mem_total 当前机器所有的内存 mem_free 当前机器可用的内存 mem_process_used 当前进程使用的内存\n",
    "    \"\"\"\n",
    "    mem_total = round(psutil.virtual_memory().total / 1024 / 1024, 2)\n",
    "    mem_free = round(psutil.virtual_memory().available / 1024 / 1024, 2)\n",
    "    mem_process_used = round(psutil.Process(os.getpid()).memory_info().rss / 1024 / 1024, 2)\n",
    "    return mem_total, mem_free, mem_process_used\n",
    "\n",
    "gpu_mem_total, gpu_mem_used, gpu_mem_free = get_gpu_mem_info(gpu_id=0)\n",
    "print(f'当前显卡显存使用情况：总共 {(gpu_mem_total/1024):.2f} GB， 已经使用 {(gpu_mem_used/1024):.2f} GB， 使用百分比 {(gpu_mem_used * 100.0 / gpu_mem_total):.2f}%')\n",
    "\n",
    "cpu_mem_total, cpu_mem_free, cpu_mem_process_used = get_cpu_mem_info()\n",
    "print(f'当前机器内存使用情况：总共 {(cpu_mem_total/1024):.2f} GB， 剩余 {(cpu_mem_free/1024):.2f} GB, 当前进程使用的内存 {(cpu_mem_process_used/1024):.2f} GB, 使用百分比 {((cpu_mem_total - cpu_mem_free) * 100.0 / cpu_mem_total):.2f}%')\n"
   ]
  },
  {
   "cell_type": "code",
   "execution_count": 2,
   "metadata": {
    "ExecuteTime": {
     "end_time": "2023-11-21T18:25:13.122588Z",
     "start_time": "2023-11-21T18:25:13.117589Z"
    },
    "collapsed": false
   },
   "outputs": [
    {
     "data": {
      "text/plain": [
       "'C:\\\\ProgramData\\\\Anaconda3\\\\envs\\\\arch_gaussian\\\\python.exe'"
      ]
     },
     "execution_count": 2,
     "metadata": {},
     "output_type": "execute_result"
    }
   ],
   "source": [
    "import sys\n",
    "sys.executable"
   ]
  },
  {
   "cell_type": "code",
   "execution_count": 3,
   "metadata": {
    "ExecuteTime": {
     "end_time": "2023-11-21T18:25:18.979353Z",
     "start_time": "2023-11-21T18:25:18.923834Z"
    },
    "collapsed": false
   },
   "outputs": [
    {
     "name": "stdout",
     "output_type": "stream",
     "text": [
      "当前目录: D:\\FengYiheng\\Projects\\arch-gaussian\n",
      "当前目录下的文件:\n",
      ".idea\n",
      ".ipynb_checkpoints\n",
      ".svn\n",
      "1.process_video.py\n",
      "2.generate_3DGS.py\n",
      "3.edit_3dgs.py\n",
      "4.generate_dataset.py\n",
      "5.train.ipynb\n",
      "5.train.py\n",
      "config.py\n",
      "data\n",
      "dataset\n",
      "globalSettings.py\n",
      "model.py\n",
      "output\n",
      "src\n",
      "test.ipynb\n",
      "test.py\n",
      "__pycache__\n"
     ]
    }
   ],
   "source": [
    "import os\n",
    "import numpy as np\n",
    "print(f\"当前目录: {os.getcwd()}\")\n",
    "\n",
    "print(f\"当前目录下的文件:\")\n",
    "print(str.join(\"\\n\", os.listdir()))"
   ]
  },
  {
   "cell_type": "code",
   "execution_count": 4,
   "metadata": {
    "ExecuteTime": {
     "end_time": "2023-11-21T18:28:30.795265Z",
     "start_time": "2023-11-21T18:28:30.782266Z"
    },
    "collapsed": false
   },
   "outputs": [],
   "source": [
    "os.makedirs(\"testdir\")"
   ]
  },
  {
   "cell_type": "code",
   "execution_count": null,
   "metadata": {
    "collapsed": false
   },
   "outputs": [],
   "source": []
  }
 ],
 "metadata": {
  "kernelspec": {
   "display_name": "arch_gaussian",
   "language": "python",
   "name": "arch_gaussian"
  },
  "language_info": {
   "codemirror_mode": {
    "name": "ipython",
    "version": 2
   },
   "file_extension": ".py",
   "mimetype": "text/x-python",
   "name": "python",
   "nbconvert_exporter": "python",
   "pygments_lexer": "ipython2",
   "version": "2.7.6"
  }
 },
 "nbformat": 4,
 "nbformat_minor": 0
}
