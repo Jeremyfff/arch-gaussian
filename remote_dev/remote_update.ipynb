{
 "cells": [
  {
   "cell_type": "code",
   "execution_count": 6,
   "metadata": {
    "collapsed": true,
    "ExecuteTime": {
     "start_time": "2023-11-21T22:31:30.809323Z",
     "end_time": "2023-11-21T22:31:30.811322Z"
    }
   },
   "outputs": [
    {
     "name": "stdout",
     "output_type": "stream",
     "text": [
      "D:\\FengYiheng\\Projects\n"
     ]
    }
   ],
   "source": [
    "import os\n",
    "\n",
    "print(os.getcwd())"
   ]
  },
  {
   "cell_type": "code",
   "execution_count": null,
   "outputs": [],
   "source": [],
   "metadata": {
    "collapsed": false
   }
  },
  {
   "cell_type": "code",
   "execution_count": 2,
   "outputs": [
    {
     "name": "stdout",
     "output_type": "stream",
     "text": [
      "Path: arch-gaussian\n",
      "Working Copy Root Path: D:\\FengYiheng\\Projects\\arch-gaussian\n",
      "URL: https://10.192.42.216/svn/FengYiheng/Projects/arch-gaussian\n",
      "Relative URL: ^/Projects/arch-gaussian\n",
      "Repository Root: https://10.192.42.216/svn/FengYiheng\n",
      "Repository UUID: 7cc3b159-0afa-aa47-8fe7-f7e0d41a046b\n",
      "Revision: 61\n",
      "Node Kind: directory\n",
      "Schedule: normal\n",
      "Last Changed Author: jeremy\n",
      "Last Changed Rev: 61\n",
      "Last Changed Date: 2023-11-22 16:42:43 +0800 (周三, 22 11月 2023)\n",
      "\n"
     ]
    }
   ],
   "source": [
    "!svn info arch-gaussian"
   ],
   "metadata": {
    "collapsed": false
   }
  },
  {
   "cell_type": "code",
   "execution_count": 9,
   "outputs": [
    {
     "name": "stdout",
     "output_type": "stream",
     "text": [
      "Updating 'arch-gaussian':\n",
      "Skipped 'arch-gaussian\\.idea\\workspace.xml' -- Node remains in conflict\n",
      "U    arch-gaussian\\C_Edit3DGS.ipynb\n",
      "U    arch-gaussian\\remote_tools\\remote_update.ipynb\n",
      "U    arch-gaussian\\src\\utils\\transpose_utils.py\n",
      "Updated to revision 67.\n",
      "Summary of conflicts:\n",
      "  Skipped paths: 1\n"
     ]
    }
   ],
   "source": [
    "!svn up arch-gaussian"
   ],
   "metadata": {
    "collapsed": false
   }
  },
  {
   "cell_type": "code",
   "execution_count": null,
   "outputs": [],
   "source": [],
   "metadata": {
    "collapsed": false
   }
  },
  {
   "cell_type": "code",
   "execution_count": 7,
   "outputs": [],
   "source": [
    "!svn commit arch-gaussian -m \"1\""
   ],
   "metadata": {
    "collapsed": false,
    "ExecuteTime": {
     "start_time": "2023-11-21T22:01:23.957192Z",
     "end_time": "2023-11-21T22:01:24.135215Z"
    }
   }
  },
  {
   "cell_type": "code",
   "execution_count": null,
   "outputs": [],
   "source": [],
   "metadata": {
    "collapsed": false
   }
  }
 ],
 "metadata": {
  "kernelspec": {
   "name": "arch_gaussian",
   "language": "python",
   "display_name": "arch_gaussian"
  },
  "language_info": {
   "codemirror_mode": {
    "name": "ipython",
    "version": 2
   },
   "file_extension": ".py",
   "mimetype": "text/x-python",
   "name": "python",
   "nbconvert_exporter": "python",
   "pygments_lexer": "ipython2",
   "version": "2.7.6"
  }
 },
 "nbformat": 4,
 "nbformat_minor": 0
}
