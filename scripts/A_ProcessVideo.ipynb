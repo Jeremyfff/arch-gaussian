{
 "cells": [
  {
   "cell_type": "code",
   "execution_count": 1,
   "outputs": [
    {
     "name": "stdout",
     "output_type": "stream",
     "text": [
      "当前目录: D:\\M.Arch\\MastersThesis\\arch-gaussian\\arch-gaussian\\scripts\n",
      "更改后的目录: D:\\M.Arch\\MastersThesis\\arch-gaussian\\arch-gaussian\n"
     ]
    }
   ],
   "source": [
    "import os\n",
    "import numpy as np\n",
    "print(f\"当前目录: {os.getcwd()}\")\n",
    "if 'arch-gaussian' in os.listdir():\n",
    "    os.chdir('arch-gaussian')\n",
    "    print(f\"更改后的目录: {os.getcwd()}\")\n"
   ],
   "metadata": {
    "collapsed": false,
    "ExecuteTime": {
     "start_time": "2024-02-17T21:20:11.276048Z",
     "end_time": "2024-02-17T21:20:11.344200Z"
    }
   }
  },
  {
   "cell_type": "code",
   "execution_count": 2,
   "outputs": [],
   "source": [
    "import sys\n",
    "sys.path.append('./src')"
   ],
   "metadata": {
    "collapsed": false,
    "ExecuteTime": {
     "start_time": "2024-02-17T21:20:30.580930Z",
     "end_time": "2024-02-17T21:20:30.584929Z"
    }
   }
  },
  {
   "cell_type": "code",
   "execution_count": null,
   "outputs": [],
   "source": [
    "%load_ext autoreload\n",
    "%autoreload 2"
   ],
   "metadata": {
    "collapsed": false,
    "ExecuteTime": {
     "start_time": "2024-02-07T13:31:21.737601Z",
     "end_time": "2024-02-07T13:31:21.777634Z"
    }
   }
  },
  {
   "cell_type": "code",
   "execution_count": null,
   "outputs": [],
   "source": [
    "import config\n",
    "config.scene_name = 'Hongkong\\ShenShuiBu\\ShenShuiBuComposite'\n",
    "config.vid_name = 'VID.mp4' # 如果不是抽帧可以不填\n",
    "config.vid_frames = 30 # 如果不是抽帧可以不填\n",
    "indent_frames = 0 # 视频编号从第几帧开始\n",
    "config.update_args()\n",
    "config.update_colmap_args()"
   ],
   "metadata": {
    "collapsed": false,
    "ExecuteTime": {
     "start_time": "2023-12-22T16:12:31.221665Z",
     "end_time": "2023-12-22T16:12:31.242727Z"
    }
   }
  },
  {
   "cell_type": "markdown",
   "source": [
    "### STEP1 FFMPEG (从视频抽帧)"
   ],
   "metadata": {
    "collapsed": false
   }
  },
  {
   "cell_type": "code",
   "execution_count": null,
   "outputs": [],
   "source": [
    "from utils.video_utils import extract_frames\n",
    "print(\"请确认以下参数:\")\n",
    "print(f\"文件夹 = {config.args.source_path}\")\n",
    "print(f\"要抽取的帧数 = {config.vid_frames}\")\n",
    "print(f\"视频名称 = {config.vid_name}\")\n",
    "print(f\"indent_frames = {indent_frames}\")"
   ],
   "metadata": {
    "collapsed": false,
    "ExecuteTime": {
     "start_time": "2023-12-22T15:04:46.117129Z",
     "end_time": "2023-12-22T15:04:46.223355Z"
    }
   }
  },
  {
   "cell_type": "code",
   "execution_count": null,
   "outputs": [],
   "source": [
    "if not os.path.exists(os.path.join(config.args.source_path, \"input\")):\n",
    "    success, frames_folder = extract_frames(os.path.join(config.args.source_path, config.vid_name), config.vid_frames, indent_frames)\n",
    "else:\n",
    "    print(\"[!]检测到抽帧已完成，已为您跳过\")\n"
   ],
   "metadata": {
    "collapsed": false,
    "ExecuteTime": {
     "start_time": "2023-12-22T15:04:47.114500Z",
     "end_time": "2023-12-22T15:06:19.973361Z"
    }
   }
  },
  {
   "cell_type": "markdown",
   "source": [
    "### STEP1 从Google Earth Studio渲染的图片"
   ],
   "metadata": {
    "collapsed": false
   }
  },
  {
   "cell_type": "code",
   "execution_count": null,
   "outputs": [],
   "source": [
    "import shutil\n",
    "from PIL import Image\n",
    "from tqdm import tqdm"
   ],
   "metadata": {
    "collapsed": false,
    "ExecuteTime": {
     "start_time": "2023-12-19T17:12:53.570024Z",
     "end_time": "2023-12-19T17:12:53.570024Z"
    }
   }
  },
  {
   "cell_type": "code",
   "execution_count": null,
   "outputs": [],
   "source": [
    "# 指定文件夹路径\n",
    "input_folder_path = os.path.join(config.args.source_path, \"footage\")\n",
    "output_folder_path = os.path.join(config.args.source_path, \"input\")\n",
    "step = 1\n",
    "resize = False\n",
    "print(\"请确认以下信息\")\n",
    "print(f\"输入文件夹: {input_folder_path}\")\n",
    "print(f\"输出文件夹: {output_folder_path}\")\n",
    "print(f\"抽取步长: {step}\")\n",
    "print(f\"缩放尺寸 : {resize}\")"
   ],
   "metadata": {
    "collapsed": false,
    "ExecuteTime": {
     "start_time": "2023-12-19T17:12:53.701024Z",
     "end_time": "2023-12-19T17:12:53.751024Z"
    }
   }
  },
  {
   "cell_type": "code",
   "execution_count": null,
   "outputs": [],
   "source": [
    "\n",
    "\n",
    "if os.path.exists(output_folder_path):\n",
    "    shutil.rmtree(output_folder_path)\n",
    "os.makedirs(output_folder_path)\n",
    "\n",
    "\n",
    "# 获取文件夹内的所有文件列表\n",
    "file_list = os.listdir(input_folder_path)\n",
    "\n",
    "# 按照文件名排序\n",
    "sorted_file_list = sorted(file_list)\n",
    "\n",
    "\n",
    "sorted_file_list = sorted_file_list[::step]\n",
    "# 重命名文件为序号\n",
    "for index, file_name in tqdm(enumerate(sorted_file_list)):\n",
    "\n",
    "    file_path = os.path.join(input_folder_path, file_name)\n",
    "\n",
    "        # 打开图像文件\n",
    "    image = Image.open(file_path)\n",
    "\n",
    "    # 获取图像的宽度和高度\n",
    "    width, height = image.size\n",
    "\n",
    "    # 计算裁剪的区域尺寸\n",
    "    crop_height = int(height * 0.1)  # 上面 10% 的高度\n",
    "\n",
    "    # 裁剪图像\n",
    "    cropped_image = image.crop((0, crop_height, width, height))\n",
    "\n",
    "\n",
    "    if resize:\n",
    "        ratio = width / 1920\n",
    "\n",
    "        resized_image = cropped_image.resize((int(width / ratio), int(height / ratio)))\n",
    "    else:\n",
    "        resized_image = cropped_image\n",
    "\n",
    "    new_file_name = f\"{(index+1):05d}.jpg\"  # 根据需要修改文件扩展名\n",
    "    new_file_path = os.path.join(output_folder_path, new_file_name)\n",
    "    # shutil.move(file_path, new_file_path)\n",
    "    resized_image.save(new_file_path)"
   ],
   "metadata": {
    "collapsed": false,
    "ExecuteTime": {
     "start_time": "2023-12-19T17:12:53.881024Z",
     "end_time": "2023-12-19T17:12:56.217349Z"
    }
   }
  },
  {
   "cell_type": "code",
   "execution_count": null,
   "outputs": [],
   "source": [],
   "metadata": {
    "collapsed": false,
    "ExecuteTime": {
     "start_time": "2023-12-19T17:12:56.231349Z",
     "end_time": "2023-12-19T17:12:56.246349Z"
    }
   }
  },
  {
   "cell_type": "markdown",
   "source": [
    "### STEP2 COLMAP"
   ],
   "metadata": {
    "collapsed": false
   }
  },
  {
   "cell_type": "code",
   "execution_count": null,
   "outputs": [],
   "source": [
    "from utils.system_utils import run_command, run_colmap_feature_extraction, run_colmap_matching_block, run_colmap_bundle"
   ],
   "metadata": {
    "collapsed": false,
    "ExecuteTime": {
     "start_time": "2023-12-22T16:12:37.726002Z",
     "end_time": "2023-12-22T16:12:37.835197Z"
    }
   }
  },
  {
   "cell_type": "code",
   "execution_count": null,
   "outputs": [],
   "source": [
    "args = config.colmap_args\n",
    "print(args)\n",
    "\n",
    "len_files = len(os.listdir(os.path.join(args.source_path, \"input\")))\n",
    "print(f\"共有{len_files}个文件\")"
   ],
   "metadata": {
    "collapsed": false,
    "ExecuteTime": {
     "start_time": "2023-12-22T16:12:38.407221Z",
     "end_time": "2023-12-22T16:12:38.417234Z"
    }
   }
  },
  {
   "cell_type": "code",
   "execution_count": null,
   "outputs": [],
   "source": [
    "colmap_command = '\"{}\"'.format(args.colmap_executable) if len(args.colmap_executable) > 0 else \"colmap\"\n",
    "print(colmap_command)\n",
    "magick_command = '\"{}\"'.format(args.magick_executable) if len(args.magick_executable) > 0 else \"magick\"\n",
    "print(magick_command)\n",
    "use_gpu = 1 if not args.no_gpu else 0"
   ],
   "metadata": {
    "collapsed": false,
    "ExecuteTime": {
     "start_time": "2023-12-22T16:12:39.901558Z",
     "end_time": "2023-12-22T16:12:39.924633Z"
    }
   }
  },
  {
   "cell_type": "markdown",
   "source": [
    "#### matching"
   ],
   "metadata": {
    "collapsed": false
   }
  },
  {
   "cell_type": "code",
   "execution_count": null,
   "outputs": [],
   "source": [
    "if not args.skip_matching:\n",
    "    print(\"plase continue\")\n",
    "else:\n",
    "    print(\"please go to next part\")"
   ],
   "metadata": {
    "collapsed": false,
    "ExecuteTime": {
     "start_time": "2023-12-22T16:12:41.399010Z",
     "end_time": "2023-12-22T16:12:41.425179Z"
    }
   }
  },
  {
   "cell_type": "code",
   "execution_count": null,
   "outputs": [],
   "source": [
    "if not args.skip_matching:\n",
    "    os.makedirs(args.source_path + \"/distorted/sparse\", exist_ok=True)"
   ],
   "metadata": {
    "collapsed": false,
    "ExecuteTime": {
     "start_time": "2023-12-22T16:12:42.335684Z",
     "end_time": "2023-12-22T16:12:42.347715Z"
    }
   }
  },
  {
   "cell_type": "code",
   "execution_count": null,
   "outputs": [],
   "source": [
    "## Feature extraction\n",
    "if not args.skip_matching:\n",
    "    feat_extracton_cmd = colmap_command + \" feature_extractor \" \\\n",
    "                                          \"--database_path \" + args.source_path + \"/distorted/database.db \\\n",
    "            --image_path \" + args.source_path + \"/input \\\n",
    "            --ImageReader.single_camera 1 \\\n",
    "            --ImageReader.camera_model \" + args.camera + \" \\\n",
    "            --SiftExtraction.use_gpu \" + str(use_gpu)\n",
    "    print(\"start feat extraction cmd\")\n",
    "    print(feat_extracton_cmd)\n",
    "    run_colmap_feature_extraction(feat_extracton_cmd)\n",
    "    # exit_code = os.system(feat_extracton_cmd)\n",
    "    # if exit_code != 0:\n",
    "    #    logging.error(f\"Feature extraction failed with code {exit_code}. Exiting.\")\n",
    "    #    exit(exit_code)"
   ],
   "metadata": {
    "collapsed": false,
    "ExecuteTime": {
     "start_time": "2023-12-22T16:12:42.744697Z",
     "end_time": "2023-12-22T16:12:45.113962Z"
    }
   }
  },
  {
   "cell_type": "code",
   "execution_count": null,
   "outputs": [],
   "source": [
    "## Feature matching\n",
    "if not args.skip_matching:\n",
    "    feat_matching_cmd = colmap_command + \" exhaustive_matcher \\\n",
    "            --database_path \" + args.source_path + \"/distorted/database.db \\\n",
    "            --SiftMatching.use_gpu \" + str(use_gpu)\n",
    "    exit_code = run_colmap_matching_block(feat_matching_cmd)\n",
    "    if exit_code != 0:\n",
    "        print(f\"Feature matching failed with code {exit_code}.\")\n"
   ],
   "metadata": {
    "collapsed": false,
    "ExecuteTime": {
     "start_time": "2023-12-22T16:12:45.774416Z",
     "end_time": "2023-12-22T16:12:47.906238Z"
    }
   }
  },
  {
   "cell_type": "code",
   "execution_count": null,
   "outputs": [],
   "source": [
    "\n",
    "\n",
    "### Bundle adjustment\n",
    "if not args.skip_matching:\n",
    "    # The default Mapper tolerance is unnecessarily large,\n",
    "    # decreasing it speeds up bundle adjustment steps.\n",
    "    mapper_cmd = (colmap_command + \" mapper \\\n",
    "            --database_path \" + args.source_path + \"/distorted/database.db \\\n",
    "            --image_path \" + args.source_path + \"/input \\\n",
    "            --output_path \" + args.source_path + \"/distorted/sparse \\\n",
    "            --Mapper.ba_global_function_tolerance=0.000001\")\n",
    "    exit_code = run_colmap_bundle(mapper_cmd, len_files)\n",
    "    if exit_code:\n",
    "        print(f\"Mapper failed with code {exit_code}.\")\n",
    "    print(\"done.\")\n"
   ],
   "metadata": {
    "collapsed": false,
    "ExecuteTime": {
     "start_time": "2023-12-22T16:12:49.063095Z",
     "end_time": "2023-12-22T16:13:20.719235Z"
    }
   }
  },
  {
   "cell_type": "markdown",
   "source": [
    "#### Image undistortion"
   ],
   "metadata": {
    "collapsed": false
   }
  },
  {
   "cell_type": "code",
   "execution_count": null,
   "outputs": [],
   "source": [
    "## We need to undistort our images into ideal pinhole intrinsics.\n",
    "img_undist_cmd = (colmap_command + \" image_undistorter \\\n",
    "        --image_path \" + args.source_path + \"/input \\\n",
    "        --input_path \" + args.source_path + \"/distorted/sparse/0 \\\n",
    "        --output_path \" + args.source_path + \"\\\n",
    "        --output_type COLMAP\")\n",
    "exit_code = run_command(img_undist_cmd)\n",
    "if exit_code:\n",
    "    print(f\"Mapper failed with code {exit_code}\")\n",
    "\n"
   ],
   "metadata": {
    "collapsed": false,
    "ExecuteTime": {
     "start_time": "2023-12-22T16:13:20.719235Z",
     "end_time": "2023-12-22T16:13:21.312680Z"
    }
   }
  },
  {
   "cell_type": "code",
   "execution_count": null,
   "outputs": [],
   "source": [
    "\n",
    "import shutil\n",
    "import logging\n",
    "files = os.listdir(args.source_path + \"/sparse\")\n",
    "os.makedirs(args.source_path + \"/sparse/0\", exist_ok=True)\n",
    "# Copy each file from the source directory to the destination directory\n",
    "for file in files:\n",
    "    if file == '0':\n",
    "        continue\n",
    "    source_file = os.path.join(args.source_path, \"sparse\", file)\n",
    "    destination_file = os.path.join(args.source_path, \"sparse\", \"0\", file)\n",
    "    shutil.move(source_file, destination_file)\n",
    "\n",
    "if (args.resize):\n",
    "    print(\"Copying and resizing...\")\n",
    "\n",
    "    # Resize images.\n",
    "    os.makedirs(args.source_path + \"/images_2\", exist_ok=True)\n",
    "    os.makedirs(args.source_path + \"/images_4\", exist_ok=True)\n",
    "    os.makedirs(args.source_path + \"/images_8\", exist_ok=True)\n",
    "    # Get the list of files in the source directory\n",
    "    files = os.listdir(args.source_path + \"/images\")\n",
    "    # Copy each file from the source directory to the destination directory\n",
    "    for file in files:\n",
    "        source_file = os.path.join(args.source_path, \"images\", file)\n",
    "\n",
    "        destination_file = os.path.join(args.source_path, \"images_2\", file)\n",
    "        shutil.copy2(source_file, destination_file)\n",
    "        exit_code = os.system(magick_command + \" mogrify -resize 50% \" + destination_file)\n",
    "        if exit_code != 0:\n",
    "            logging.error(f\"50% resize failed with code {exit_code}. Exiting.\")\n",
    "            exit(exit_code)\n",
    "\n",
    "        destination_file = os.path.join(args.source_path, \"images_4\", file)\n",
    "        shutil.copy2(source_file, destination_file)\n",
    "        exit_code = os.system(magick_command + \" mogrify -resize 25% \" + destination_file)\n",
    "        if exit_code != 0:\n",
    "            logging.error(f\"25% resize failed with code {exit_code}. Exiting.\")\n",
    "            exit(exit_code)\n",
    "\n",
    "        destination_file = os.path.join(args.source_path, \"images_8\", file)\n",
    "        shutil.copy2(source_file, destination_file)\n",
    "        exit_code = os.system(magick_command + \" mogrify -resize 12.5% \" + destination_file)\n",
    "        if exit_code != 0:\n",
    "            logging.error(f\"12.5% resize failed with code {exit_code}. Exiting.\")\n",
    "            exit(exit_code)"
   ],
   "metadata": {
    "collapsed": false,
    "ExecuteTime": {
     "start_time": "2023-12-22T16:13:21.312680Z",
     "end_time": "2023-12-22T16:13:21.323564Z"
    }
   }
  },
  {
   "cell_type": "code",
   "execution_count": null,
   "outputs": [],
   "source": [
    "print(\"Done.\")"
   ],
   "metadata": {
    "collapsed": false,
    "ExecuteTime": {
     "start_time": "2023-12-22T16:13:21.323564Z",
     "end_time": "2023-12-22T16:13:21.391501Z"
    }
   }
  },
  {
   "cell_type": "code",
   "execution_count": null,
   "outputs": [],
   "source": [],
   "metadata": {
    "collapsed": false,
    "ExecuteTime": {
     "start_time": "2023-12-22T15:17:06.957236Z",
     "end_time": "2023-12-22T15:17:07.020965Z"
    }
   }
  },
  {
   "cell_type": "code",
   "execution_count": null,
   "outputs": [],
   "source": [],
   "metadata": {
    "collapsed": false
   }
  }
 ],
 "metadata": {
  "kernelspec": {
   "name": "arch_gaussian",
   "language": "python",
   "display_name": "arch_gaussian"
  },
  "language_info": {
   "codemirror_mode": {
    "name": "ipython",
    "version": 2
   },
   "file_extension": ".py",
   "mimetype": "text/x-python",
   "name": "python",
   "nbconvert_exporter": "python",
   "pygments_lexer": "ipython2",
   "version": "2.7.6"
  }
 },
 "nbformat": 4,
 "nbformat_minor": 0
}
