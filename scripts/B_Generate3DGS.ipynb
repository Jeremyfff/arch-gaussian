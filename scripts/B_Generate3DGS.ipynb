{
 "cells": [
  {
   "cell_type": "markdown",
   "source": [
    "# 生成3Dgs （照片重建）"
   ],
   "metadata": {
    "collapsed": false
   }
  },
  {
   "cell_type": "markdown",
   "source": [
    "按照正常步骤的三维高斯重建"
   ],
   "metadata": {
    "collapsed": false
   }
  },
  {
   "cell_type": "code",
   "source": [
    "import os\n",
    "print(f\"当前目录: {os.getcwd()}\")\n",
    "if 'arch-gaussian' in os.listdir():\n",
    "    JUPYTER_ROOT = os.getcwd()\n",
    "    os.chdir('arch-gaussian')\n",
    "    print(f\"更改后的目录: {os.getcwd()}\")\n",
    "#针对远程jupyter目录的操作， 本地运行可以无视"
   ],
   "metadata": {
    "collapsed": false
   },
   "outputs": [],
   "execution_count": null
  },
  {
   "cell_type": "code",
   "source": [
    "import config\n",
    "# 基础设置\n",
    "config.scene_name = \"Nanjing\\Jimingsi\" # 输入文件夹名称\n",
    "config.output_name = \"Nanjing\\Jimingsi\"  # 输出文件夹名称\n",
    "config.sh_degree = 3  # 0~3， 改为0可以缩小文件大小，但是无法被现有的unity工具识别， 推荐使用默认3\n",
    "config.epochs = 1000  # 训练轮次， 3000， 7000， 15000， 30000\n",
    "config.loaded_iter = None # 是否加载已经训练好的轮次，None 或数字\n",
    "# 高级设置\n",
    "config.resolution = 1 # 是否压缩图像，1为原尺寸，-1为自动压缩到不大于1600像素， 支持2的次方的数字\n",
    "config.densify_until_iter = 15000  # 致密化结束的轮次\n",
    "config.densify_grad_threshold = 0.0002  # 致密化的阈值，越小增加的越快\n",
    "\n",
    "# 配置结束，更新配置文件\n",
    "config.update_colmap_args()\n",
    "config.update_args()\n",
    "\n",
    "# 打印修改过后的参数\n",
    "config.print_updated_colmap_args()\n",
    "config.print_updated_args()\n"
   ],
   "metadata": {
    "collapsed": false
   },
   "outputs": [],
   "execution_count": null
  },
  {
   "cell_type": "code",
   "source": [
    "%load_ext autoreload\n",
    "%autoreload 2\n",
    "import sys\n",
    "sys.path.append(\"./src\")\n",
    "import os\n",
    "import torch\n",
    "import numpy as np\n",
    "np.set_printoptions(suppress=True)\n",
    "from config import args  # 正式导入args\n",
    "\n"
   ],
   "metadata": {
    "collapsed": false
   },
   "outputs": [],
   "execution_count": null
  },
  {
   "cell_type": "markdown",
   "source": [
    "## 创建scene info 与修复"
   ],
   "metadata": {
    "collapsed": false
   }
  },
  {
   "cell_type": "code",
   "source": [
    "# 创建scene info\n",
    "from manager.scene_manager import load_and_fix_scene\n",
    "\n",
    "# 根据相机姿态，自动估算地面向上向量，并将场景\n",
    "scene_info = load_and_fix_scene(args)\n"
   ],
   "metadata": {
    "collapsed": false
   },
   "outputs": [],
   "execution_count": null
  },
  {
   "cell_type": "markdown",
   "source": [
    "## 导入相机"
   ],
   "metadata": {
    "collapsed": false
   }
  },
  {
   "cell_type": "code",
   "source": [
    "from manager.camera_manager import CameraManager\n",
    "cm = CameraManager()\n",
    "train_cameras, test_cameras = cm.create_cameras(args, scene_info)\n"
   ],
   "metadata": {
    "collapsed": false
   },
   "outputs": [],
   "execution_count": null
  },
  {
   "cell_type": "markdown",
   "source": [
    "## 创建gaussian对象"
   ],
   "metadata": {
    "collapsed": false
   }
  },
  {
   "cell_type": "code",
   "source": [],
   "metadata": {
    "collapsed": false
   },
   "outputs": [],
   "execution_count": null
  },
  {
   "cell_type": "code",
   "source": [
    "from manager.gaussian_manager import GaussianManager\n",
    "gm = GaussianManager(args, scene_info)\n",
    "print(f\"num points: {gm.gaussians.get_xyz.shape[0]}\")"
   ],
   "metadata": {
    "collapsed": false
   },
   "outputs": [],
   "execution_count": null
  },
  {
   "cell_type": "code",
   "source": [
    "from manager.train_manager import init_snapshot, take_snapshot, SnapshotCameraMode, SnapshotFilenameMode\n",
    "init_snapshot(0)\n",
    "def post_socket(**kwargs):\n",
    "    \"\"\"完成每一轮训练后的后处理内容\"\"\"\n",
    "    _iteration = kwargs['iteration']\n",
    "    take_snapshot(cm, gm,\n",
    "                  _camera_mode=SnapshotCameraMode.SLOW_ROTATE,\n",
    "                  _slow_ratio=5,\n",
    "                  _filename_mode=SnapshotFilenameMode.BY_SNAP_COUNT,\n",
    "                  _folder_name=\"snapshots\",\n",
    "                  _iteration_gap=100,\n",
    "                  _first_period_iteration_gap=10,\n",
    "                  _first_period_end=400,\n",
    "                  **kwargs)\n",
    "    _gaussians = kwargs['gaussians']\n",
    "    if _iteration % 1000 == 0:\n",
    "        print(_gaussians.get_xyz.shape)"
   ],
   "metadata": {
    "collapsed": false
   },
   "outputs": [],
   "execution_count": null
  },
  {
   "cell_type": "code",
   "source": [
    "from manager.train_manager import train, init_output_folder\n",
    "\n",
    "init_output_folder(args, scene_info)\n",
    "train(args,scene_info, gm.gaussians, cm.train_cameras, post_socket=post_socket)"
   ],
   "metadata": {
    "collapsed": false
   },
   "outputs": [],
   "execution_count": null
  },
  {
   "cell_type": "markdown",
   "source": [
    "## 预览结果"
   ],
   "metadata": {
    "collapsed": false
   }
  },
  {
   "cell_type": "code",
   "source": [],
   "metadata": {
    "collapsed": false
   },
   "outputs": [],
   "execution_count": null
  },
  {
   "cell_type": "code",
   "source": [
    "from manager.gaussian_manager import GaussianManager\n",
    "gm = GaussianManager(args, gm.gaussians) # 从gaussians创建GaussianManager\n",
    "cam = cm.pick_camera(0)\n",
    "image = gm.render(cam, convert_to_pil=True)\n",
    "image"
   ],
   "metadata": {
    "collapsed": false
   },
   "outputs": [],
   "execution_count": null
  },
  {
   "cell_type": "markdown",
   "source": [
    "## Splat 格式转换"
   ],
   "metadata": {
    "collapsed": false
   }
  },
  {
   "cell_type": "code",
   "source": [
    "import os\n",
    "import numpy as np\n",
    "from plyfile import PlyData\n",
    "\n",
    "print(f\"当前目录: {os.getcwd()}\")\n",
    "if 'arch-gaussian' in os.listdir():\n",
    "    JUPYTER_ROOT = os.getcwd()\n",
    "    os.chdir('arch-gaussian')\n",
    "    print(f\"更改后的目录: {os.getcwd()}\")"
   ],
   "metadata": {
    "collapsed": false
   },
   "outputs": [],
   "execution_count": null
  },
  {
   "cell_type": "code",
   "source": [
    "point_cloud_path = os.path.join(args.model_path, \"point_cloud/iteration_{}\".format(args.iterations), \"point_cloud.ply\")\n",
    "if not os.path.exists(point_cloud_path):\n",
    "    print(\"file not found\")"
   ],
   "metadata": {
    "collapsed": false
   },
   "outputs": [],
   "execution_count": null
  },
  {
   "cell_type": "code",
   "source": [
    "def splat2np(_path):\n",
    "    with open(_path) as f:\n",
    "        _b = f.read()\n",
    "    _dt = np.dtype([\n",
    "        ('position', np.float32, 3),\n",
    "        ('scale', np.float32, 3),\n",
    "        ('RGBA', np.uint8, 4),\n",
    "        ('IJKL', np.uint8, 4)\n",
    "    ])\n",
    "    return np.frombuffer(_b, _dt)\n",
    "\n",
    "def np2splat(_data, _save_path):\n",
    "    _data.tofile(_save_path)\n",
    "    print(f\"data saved to {_save_path}\")\n",
    "\n",
    "def ply2np(_ply_path):\n",
    "    _dt = np.dtype([\n",
    "        ('position', np.float32, 3),\n",
    "        ('scale', np.float32, 3),\n",
    "        ('RGBA', np.uint8, 4),\n",
    "        ('IJKL', np.uint8, 4)\n",
    "    ])\n",
    "\n",
    "    plydata = PlyData.read(_ply_path)\n",
    "    x = np.array(plydata.elements[0]['x'])\n",
    "    y = np.array(plydata.elements[0]['y'])\n",
    "    z = np.array(plydata.elements[0]['z'])\n",
    "    scale_0 = np.array(plydata.elements[0]['scale_0'])\n",
    "    scale_1 = np.array(plydata.elements[0]['scale_1'])\n",
    "    scale_2 = np.array(plydata.elements[0]['scale_2'])\n",
    "    rot_0 = np.array(plydata.elements[0]['rot_0'])\n",
    "    rot_1 = np.array(plydata.elements[0]['rot_1'])\n",
    "    rot_2 = np.array(plydata.elements[0]['rot_2'])\n",
    "    rot_3 = np.array(plydata.elements[0]['rot_3'])\n",
    "    r = np.array(plydata.elements[0]['f_dc_0'])\n",
    "    g = np.array(plydata.elements[0]['f_dc_1'])\n",
    "    b = np.array(plydata.elements[0]['f_dc_2'])\n",
    "    a = np.array(plydata.elements[0]['opacity'])\n",
    "\n",
    "    position = np.stack((x,y,z), axis=1)\n",
    "    scales= np.stack((scale_0, scale_1, scale_2), axis=1)\n",
    "    rots = np.stack((rot_0, rot_1, rot_2, rot_3), axis=1)\n",
    "    rgba = np.stack((r,g,b,a), axis = 1)\n",
    "\n",
    "    qlen = np.square(rots).sum(axis=1)\n",
    "    rots = rots / qlen[:, np.newaxis] * 128 + 128\n",
    "    rots = np.clip(rots, 0, 255)\n",
    "\n",
    "    scales = np.exp(scales)\n",
    "\n",
    "    SH_C0 = 0.28209479177387814\n",
    "    rgba[:,0:3] = (0.5 + SH_C0 * rgba[:,0:3]) * 255\n",
    "    rgba[:, 3] = (1 / (1 + np.exp(-rgba[:, 3]))) * 255\n",
    "    rgba = np.clip(rgba, 0, 255)\n",
    "\n",
    "    rots = rots.astype(np.uint8)\n",
    "    rgba = rgba.astype(np.uint8)\n",
    "\n",
    "    merged = np.empty((position.shape[0]),dtype=_dt)\n",
    "\n",
    "    merged['position'] = position\n",
    "    merged['scale'] = scales\n",
    "    merged['RGBA'] = rgba\n",
    "    merged['IJKL'] = rots\n",
    "\n",
    "    return merged\n"
   ],
   "metadata": {
    "collapsed": false
   },
   "outputs": [],
   "execution_count": null
  },
  {
   "cell_type": "code",
   "source": [
    "data = ply2np(point_cloud_path)\n",
    "print(data[0])\n",
    "save_path = f\"{os.path.dirname(point_cloud_path)}/output.splat\"\n",
    "np2splat(data, save_path)"
   ],
   "metadata": {
    "collapsed": false
   },
   "outputs": [],
   "execution_count": null
  },
  {
   "cell_type": "code",
   "source": [
    "import http.server\n",
    "import socketserver\n",
    "\n",
    "# 指定根目录的位置\n",
    "root_directory = './web/WebGLViewer'\n",
    "\n",
    "# 设置服务器的端口号\n",
    "port = 8000\n",
    "\n",
    "# 创建一个简单的 HTTP 请求处理器类\n",
    "Handler = http.server.SimpleHTTPRequestHandler\n",
    "\n",
    "# 指定根目录的位置\n",
    "Handler.directory = root_directory\n",
    "\n",
    "# 创建一个服务器，监听指定的端口\n",
    "with socketserver.TCPServer((\"\", port), Handler) as httpd:\n",
    "    print(f\"Serving at port {port}\")\n",
    "    # 启动服务器\n",
    "    httpd.serve_forever()\n"
   ],
   "metadata": {
    "collapsed": false
   },
   "outputs": [],
   "execution_count": null
  }
 ],
 "metadata": {
  "kernelspec": {
   "name": "python3",
   "language": "python",
   "display_name": "Python 3 (ipykernel)"
  },
  "language_info": {
   "codemirror_mode": {
    "name": "ipython",
    "version": 2
   },
   "file_extension": ".py",
   "mimetype": "text/x-python",
   "name": "python",
   "nbconvert_exporter": "python",
   "pygments_lexer": "ipython2",
   "version": "2.7.6"
  }
 },
 "nbformat": 4,
 "nbformat_minor": 0
}
