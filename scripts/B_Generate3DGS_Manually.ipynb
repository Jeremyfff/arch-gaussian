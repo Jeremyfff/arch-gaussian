{
 "cells": [
  {
   "cell_type": "code",
   "source": [
    "import os\n",
    "print(f\"当前目录: {os.getcwd()}\")\n",
    "if 'arch-gaussian' in os.listdir():\n",
    "    JUPYTER_ROOT = os.getcwd()\n",
    "    os.chdir('arch-gaussian')\n",
    "    print(f\"更改后的目录: {os.getcwd()}\")"
   ],
   "metadata": {
    "collapsed": false
   },
   "outputs": [],
   "execution_count": null
  },
  {
   "cell_type": "code",
   "source": [
    "import config\n",
    "# 基础设置\n",
    "config.scene_name = \"Hongkong\\ShenShuiBu\\ShenShuiBuComposite\" # 输入文件夹名称\n",
    "config.output_name = \"Hongkong\\ShenShuiBu\\ShenShuiBuComposite\"  # 输出文件夹名称\n",
    "config.sh_degree = 3  # 0~3， 改为0可以缩小文件大小，但是无法被现有的unity工具识别， 推荐使用默认3\n",
    "config.epochs = 7000  # 训练轮次， 3000， 7000， 15000， 30000\n",
    "config.first_iter = 0\n",
    "config.loaded_iter = 7000\n",
    "# 高级设置\n",
    "config.resolution = 1 # 是否压缩图像，1为原尺寸，-1为自动压缩到不大于1600像素， 支持2的次方的数字\n",
    "config.densify_until_iter = 15000  # 致密化结束的轮次\n",
    "config.densify_grad_threshold = 0.0002  # 致密化的阈值，越小增加的越快\n",
    "\n",
    "# 配置结束，更新配置文件\n",
    "config.update_colmap_args()\n",
    "config.update_args()\n",
    "\n",
    "# 打印修改过后的参数\n",
    "config.print_updated_colmap_args()\n",
    "config.print_updated_args()\n"
   ],
   "metadata": {
    "collapsed": false
   },
   "outputs": [],
   "execution_count": null
  },
  {
   "cell_type": "code",
   "source": [
    "%load_ext autoreload\n",
    "%autoreload 2\n",
    "import sys\n",
    "sys.path.append(\"./src\")\n",
    "import os\n",
    "import torch\n",
    "import numpy as np\n",
    "np.set_printoptions(suppress=True)\n",
    "from config import args  # 正式导入args\n",
    "\n"
   ],
   "metadata": {
    "collapsed": false
   },
   "outputs": [],
   "execution_count": null
  },
  {
   "cell_type": "markdown",
   "source": [
    "## 创建scene info 与修复"
   ],
   "metadata": {
    "collapsed": false
   }
  },
  {
   "cell_type": "code",
   "source": [
    "# 创建scene info\n",
    "from manager.scene_manager import load_and_fix_scene\n",
    "\n",
    "scene_info = load_and_fix_scene(args)\n"
   ],
   "metadata": {
    "collapsed": false
   },
   "outputs": [],
   "execution_count": null
  },
  {
   "cell_type": "markdown",
   "source": [
    "## 导入相机"
   ],
   "metadata": {
    "collapsed": false
   }
  },
  {
   "cell_type": "code",
   "source": [
    "from manager.camera_manager import CameraManager\n",
    "cm = CameraManager()\n",
    "cm.create_cameras(args, scene_info)\n",
    "\n",
    "# optional\n",
    "cm.remove_last_camera()"
   ],
   "metadata": {
    "collapsed": false
   },
   "outputs": [],
   "execution_count": null
  },
  {
   "cell_type": "code",
   "source": [
    "print(len(cm.sorted_cameras[1.0]))"
   ],
   "metadata": {
    "collapsed": false
   },
   "outputs": [],
   "execution_count": null
  },
  {
   "cell_type": "markdown",
   "source": [
    "## 创建gaussian对象"
   ],
   "metadata": {
    "collapsed": false
   }
  },
  {
   "cell_type": "code",
   "source": [
    "from manager.gaussian_manager import GaussianManager\n",
    "gm = GaussianManager(args, scene_info)\n",
    "print(f\"num points: {gm.gaussians.get_xyz.shape[0]}\")"
   ],
   "metadata": {
    "collapsed": false
   },
   "outputs": [],
   "execution_count": null
  },
  {
   "cell_type": "markdown",
   "source": [
    "## 使用封装好的Gaussian Manager管理gaussian"
   ],
   "metadata": {
    "collapsed": false
   }
  },
  {
   "cell_type": "code",
   "source": [
    "from manager.gaussian_manager import GaussianManager\n",
    "gm = GaussianManager(args, gm.gaussians) # 从gaussians创建GaussianManager\n",
    "cam = cm.pick_camera(0)\n",
    "image = gm.render(cam, convert_to_pil=True)\n",
    "image"
   ],
   "metadata": {
    "collapsed": false
   },
   "outputs": [],
   "execution_count": null
  },
  {
   "cell_type": "code",
   "source": [
    "position_range = (torch.tensor([-0.5,0,-100]), torch.tensor([0.5,0.5,100]))\n",
    "with gm.virtual():\n",
    "    mask = gm.position_mask(*position_range)\n",
    "    gm.paint_by_mask(mask)\n",
    "    image = gm.render(cam, convert_to_pil= True)\n",
    "image"
   ],
   "metadata": {
    "collapsed": false
   },
   "outputs": [],
   "execution_count": null
  },
  {
   "cell_type": "code",
   "source": [
    "mask = gm.mask_from_json(r\"D:\\FengYiheng\\Projects\\arch-gaussian\\output\\Hongkong\\ShenShuiBu\\ShenShuiBuComposite\\point_cloud\\iteration_7000\\ShenShuiBuComposite-point_cloud-iteration_7000-point_cloud.json\")\n",
    "with gm.virtual():\n",
    "    gm.set_alpha(-100, mask)\n",
    "    image = gm.render(cam, convert_to_pil= True)\n",
    "image"
   ],
   "metadata": {
    "collapsed": false
   },
   "outputs": [],
   "execution_count": null
  },
  {
   "cell_type": "code",
   "source": [
    "from tqdm.auto import tqdm\n",
    "from manager.train_manager import init_snapshot, take_snapshot, SnapshotCameraMode, SnapshotFilenameMode\n",
    "init_snapshot(106)\n",
    "with gm.virtual():\n",
    "    for i in tqdm(range(150)):\n",
    "        take_snapshot(cm, gm,\n",
    "                  _camera_mode=SnapshotCameraMode.SLOW_ROTATE,\n",
    "                  _slow_ratio=5,\n",
    "                  _filename_mode=SnapshotFilenameMode.BY_SNAP_COUNT,\n",
    "                  _folder_name=\"snapshots2\",\n",
    "                  _iteration_gap=1,\n",
    "                  _first_period_iteration_gap=1,\n",
    "                  _first_period_end=0,\n",
    "                  args=args,\n",
    "                  iteration=i,\n",
    "                  image=None)\n"
   ],
   "metadata": {
    "collapsed": false
   },
   "outputs": [],
   "execution_count": null
  },
  {
   "cell_type": "code",
   "source": [
    "init_snapshot(106 + 150)\n",
    "with gm.virtual():\n",
    "    bboxes = gm.bboxes_from_json(r\"D:\\FengYiheng\\Projects\\arch-gaussian\\output\\Hongkong\\ShenShuiBu\\ShenShuiBuComposite\\point_cloud\\iteration_7000\\ShenShuiBuComposite-point_cloud-iteration_7000-point_cloud.json\",-2, 0)\n",
    "    for region in bboxes:\n",
    "        for bbox in region:\n",
    "            mask = gm.position_mask(*bbox)\n",
    "            gm.clear_features_rest(mask)\n",
    "            gm.set_color(0.5, mask)\n",
    "            gm.noise_position(mask, bbox)\n",
    "\n",
    "    for i in tqdm(range(10)):\n",
    "        take_snapshot(cm, gm,\n",
    "                  _camera_mode=SnapshotCameraMode.SLOW_ROTATE,\n",
    "                  _slow_ratio=5,\n",
    "                  _filename_mode=SnapshotFilenameMode.BY_SNAP_COUNT,\n",
    "                  _folder_name=\"snapshots3\",\n",
    "                  _iteration_gap=1,\n",
    "                  _first_period_iteration_gap=1,\n",
    "                  _first_period_end=0,\n",
    "                  args=args,\n",
    "                  iteration=i,\n",
    "                  image=None)\n"
   ],
   "metadata": {
    "collapsed": false
   },
   "outputs": [],
   "execution_count": null
  },
  {
   "cell_type": "code",
   "source": [
    "init_snapshot(106 + 150 + 150)\n",
    "with gm.virtual():\n",
    "    gm.set_alpha(-100, mask)\n",
    "    for i in tqdm(range(150)):\n",
    "        take_snapshot(cm, gm,\n",
    "                  _camera_mode=SnapshotCameraMode.SLOW_ROTATE,\n",
    "                  _slow_ratio=5,\n",
    "                  _filename_mode=SnapshotFilenameMode.BY_SNAP_COUNT,\n",
    "                  _folder_name=\"snapshots4\",\n",
    "                  _iteration_gap=1,\n",
    "                  _first_period_iteration_gap=1,\n",
    "                  _first_period_end=0,\n",
    "                  args=args,\n",
    "                  iteration=i,\n",
    "                  image=None)\n"
   ],
   "metadata": {
    "collapsed": false
   },
   "outputs": [],
   "execution_count": null
  },
  {
   "cell_type": "code",
   "source": [],
   "metadata": {
    "collapsed": false
   },
   "outputs": [],
   "execution_count": null
  },
  {
   "cell_type": "code",
   "source": [],
   "metadata": {
    "collapsed": false
   },
   "outputs": [],
   "execution_count": null
  },
  {
   "cell_type": "code",
   "source": [
    "# 离开virtual环境后，会恢复原有的数据\n",
    "# image = gm.render(cam, convert_to_pil= True)\n",
    "# image"
   ],
   "metadata": {
    "collapsed": false
   },
   "outputs": [],
   "execution_count": null
  },
  {
   "cell_type": "code",
   "source": [
    "from utils.image_utils import get_pil_image, save_pil_image\n",
    "\n",
    "import torchvision.transforms.functional as TF\n",
    "\n",
    "def gt_socket(**kwargs):\n",
    "    \"\"\"\n",
    "    ground truth socket\n",
    "    作用为替换真实的gt image\n",
    "    \"\"\"\n",
    "    iteration = kwargs['iteration']\n",
    "    camera = kwargs['viewpoint_cam']\n",
    "\n",
    "    gt_image = camera.original_image\n",
    "    if iteration % 100 == 0:\n",
    "        pil_gt_image = get_pil_image(gt_image)\n",
    "        save_pil_image(pil_gt_image, os.path.join(args.model_path, \"snap_shots\", f\"{iteration:05d}_gt_org.jpg\"))\n",
    "    new_gt_image = TF.adjust_hue(gt_image, 0.4)\n",
    "    return new_gt_image"
   ],
   "metadata": {
    "collapsed": false
   },
   "outputs": [],
   "execution_count": null
  },
  {
   "cell_type": "code",
   "source": [
    "def loss_socket(**kwargs):\n",
    "    \"\"\"\n",
    "    对真实计算出的loss进行更改\n",
    "    \"\"\"\n",
    "    global mask\n",
    "    iteration = kwargs['iteration']\n",
    "    if mask is None or gm.gaussians._xyz.shape[0] != mask.shape[0]:\n",
    "        print(f\"mask updated at iter {iteration}\")\n",
    "        mask = gm.position_mask(*position_range)\n",
    "    gm.clear_grads(~mask)\n",
    "\n"
   ],
   "metadata": {
    "collapsed": false
   },
   "outputs": [],
   "execution_count": null
  },
  {
   "cell_type": "code",
   "source": [
    "from utils.image_utils import save_pil_image\n",
    "\n",
    "\n",
    "def post_socket(**kwargs):\n",
    "    \"\"\"\n",
    "    完成每一轮训练后的后处理内容\n",
    "    \"\"\"\n",
    "    args = kwargs['args']\n",
    "    iteration = kwargs['iteration']\n",
    "    image = kwargs['image']\n",
    "    gt_image = kwargs['gt_image']\n",
    "    gaussians = kwargs['gaussians']\n",
    "\n",
    "\n",
    "    if iteration % 100 == 0:\n",
    "        pil_image = get_pil_image(image)\n",
    "        save_path = os.path.join(args.model_path, \"snap_shots\", f\"{iteration:05d}.jpg\")\n",
    "        save_pil_image(pil_image, save_path)\n",
    "\n",
    "        pil_gt_iamge = get_pil_image(gt_image)\n",
    "        gt_save_path = os.path.join(args.model_path, \"snap_shots\", f\"{iteration:05d}_gt.jpg\")\n",
    "        save_pil_image(pil_gt_iamge, gt_save_path)\n",
    "\n",
    "    if iteration % 1000 == 0:\n",
    "        print(gaussians.get_xyz.shape)"
   ],
   "metadata": {
    "collapsed": false
   },
   "outputs": [],
   "execution_count": null
  },
  {
   "cell_type": "code",
   "source": [
    "from manager.train_manager import train, init_output_folder\n",
    "\n",
    "init_output_folder(args, scene_info)\n",
    "\n",
    "train(args,scene_info, gm.gaussians, cm.train_cameras, gt_socket=gt_socket,loss_socket=loss_socket, post_socket=post_socket)\n",
    "\n",
    "# train(args,scene_info, gm.gaussians, cm.train_cameras, post_socket=post_socket)"
   ],
   "metadata": {
    "collapsed": false
   },
   "outputs": [],
   "execution_count": null
  },
  {
   "cell_type": "markdown",
   "source": [
    "## 在模型上叠加绘图"
   ],
   "metadata": {
    "collapsed": false
   }
  },
  {
   "cell_type": "code",
   "source": [
    "import matplotlib.pyplot as plt\n",
    "position_range = (np.array([-0.5,0,-2]), np.array([0.5,0.5,-1.9]))\n",
    "# 定义立方体的八个点坐标\n",
    "a, b = position_range[0], position_range[1]\n",
    "\n",
    "cube_points = np.array([\n",
    "    [a[0], a[1], a[2]],  # 左下后\n",
    "    [a[0], b[1], a[2]],   # 左上后\n",
    "    [b[0], a[1], a[2]],   # 右下后\n",
    "    [b[0], b[1], a[2]],    # 右上后\n",
    "\n",
    "    [a[0], a[1], b[2]],   # 左下前\n",
    "    [a[0], b[1], b[2]],    # 左上前\n",
    "    [b[0], a[1], b[2]],    # 右下前\n",
    "    [b[0], b[1], b[2]],      # 右上前\n",
    "])\n",
    "\n",
    "\n",
    "edges = [\n",
    "    (0, 1), (1, 3), (3, 2), (2, 0),  # 左边\n",
    "    (4, 5), (5, 7), (7, 6), (6, 4),  # 右边\n",
    "    (0, 4), (1, 5), (2, 6), (3, 7)   # 连接前后面\n",
    "]\n",
    "\n",
    "\n",
    "print(cube_points)"
   ],
   "metadata": {
    "collapsed": false
   },
   "outputs": [],
   "execution_count": null
  },
  {
   "cell_type": "code",
   "source": [
    "%matplotlib inline\n",
    "import matplotlib.pyplot as plt\n",
    "from PIL import Image, ImageDraw\n",
    "from manager.display_manager import Geometry, Drawer\n",
    "\n",
    "box = Geometry(cube_points,edges)\n",
    "drawer = Drawer()\n",
    "drawer.add_geometry(box)\n",
    "\n",
    "with gm.virtual():\n",
    "    for cam in train_cameras[1]:\n",
    "        mask = gm.position_mask(a, b)\n",
    "        gm.paint_by_mask(mask)\n",
    "        image = gm.render(cam, convert_to_pil=True)\n",
    "\n",
    "        drawer.draw(cam, image)\n",
    "\n",
    "        save_path = os.path.join(os.getcwd(),\"cache\",f\"{cam.image_name}.jpg\")\n",
    "        os.makedirs(os.path.dirname(save_path), exist_ok=True)\n",
    "\n",
    "        image.save(save_path)"
   ],
   "metadata": {
    "collapsed": false
   },
   "outputs": [],
   "execution_count": null
  },
  {
   "cell_type": "code",
   "source": [],
   "metadata": {
    "collapsed": false
   },
   "outputs": [],
   "execution_count": null
  },
  {
   "cell_type": "code",
   "source": [],
   "metadata": {
    "collapsed": false
   },
   "outputs": [],
   "execution_count": null
  },
  {
   "cell_type": "code",
   "source": [],
   "metadata": {
    "collapsed": false
   },
   "outputs": [],
   "execution_count": null
  },
  {
   "cell_type": "markdown",
   "source": [
    "## View Online"
   ],
   "metadata": {
    "collapsed": false
   }
  },
  {
   "cell_type": "code",
   "source": [
    "import os\n",
    "import numpy as np\n",
    "from plyfile import PlyData\n",
    "\n",
    "print(f\"当前目录: {os.getcwd()}\")\n",
    "if 'arch-gaussian' in os.listdir():\n",
    "    JUPYTER_ROOT = os.getcwd()\n",
    "    os.chdir('arch-gaussian')\n",
    "    print(f\"更改后的目录: {os.getcwd()}\")"
   ],
   "metadata": {
    "collapsed": false
   },
   "outputs": [],
   "execution_count": null
  },
  {
   "cell_type": "code",
   "source": [
    "point_cloud_path = os.path.join(args.model_path, \"point_cloud/iteration_{}\".format(args.iterations), \"point_cloud.ply\")\n",
    "if not os.path.exists(point_cloud_path):\n",
    "    print(\"file not found\")"
   ],
   "metadata": {
    "collapsed": false
   },
   "outputs": [],
   "execution_count": null
  },
  {
   "cell_type": "code",
   "source": [
    "def splat2np(_path):\n",
    "    with open(_path) as f:\n",
    "        _b = f.read()\n",
    "    _dt = np.dtype([\n",
    "        ('position', np.float32, 3),\n",
    "        ('scale', np.float32, 3),\n",
    "        ('RGBA', np.uint8, 4),\n",
    "        ('IJKL', np.uint8, 4)\n",
    "    ])\n",
    "    return np.frombuffer(_b, _dt)\n",
    "\n",
    "def np2splat(_data, _save_path):\n",
    "    _data.tofile(_save_path)\n",
    "    print(f\"data saved to {_save_path}\")\n",
    "\n",
    "def ply2np(_ply_path):\n",
    "    _dt = np.dtype([\n",
    "        ('position', np.float32, 3),\n",
    "        ('scale', np.float32, 3),\n",
    "        ('RGBA', np.uint8, 4),\n",
    "        ('IJKL', np.uint8, 4)\n",
    "    ])\n",
    "\n",
    "    plydata = PlyData.read(_ply_path)\n",
    "    x = np.array(plydata.elements[0]['x'])\n",
    "    y = np.array(plydata.elements[0]['y'])\n",
    "    z = np.array(plydata.elements[0]['z'])\n",
    "    scale_0 = np.array(plydata.elements[0]['scale_0'])\n",
    "    scale_1 = np.array(plydata.elements[0]['scale_1'])\n",
    "    scale_2 = np.array(plydata.elements[0]['scale_2'])\n",
    "    rot_0 = np.array(plydata.elements[0]['rot_0'])\n",
    "    rot_1 = np.array(plydata.elements[0]['rot_1'])\n",
    "    rot_2 = np.array(plydata.elements[0]['rot_2'])\n",
    "    rot_3 = np.array(plydata.elements[0]['rot_3'])\n",
    "    r = np.array(plydata.elements[0]['f_dc_0'])\n",
    "    g = np.array(plydata.elements[0]['f_dc_1'])\n",
    "    b = np.array(plydata.elements[0]['f_dc_2'])\n",
    "    a = np.array(plydata.elements[0]['opacity'])\n",
    "\n",
    "    position = np.stack((x,y,z), axis=1)\n",
    "    scales= np.stack((scale_0, scale_1, scale_2), axis=1)\n",
    "    rots = np.stack((rot_0, rot_1, rot_2, rot_3), axis=1)\n",
    "    rgba = np.stack((r,g,b,a), axis = 1)\n",
    "\n",
    "    qlen = np.square(rots).sum(axis=1)\n",
    "    rots = rots / qlen[:, np.newaxis] * 128 + 128\n",
    "    rots = np.clip(rots, 0, 255)\n",
    "\n",
    "    scales = np.exp(scales)\n",
    "\n",
    "    SH_C0 = 0.28209479177387814\n",
    "    rgba[:,0:3] = (0.5 + SH_C0 * rgba[:,0:3]) * 255\n",
    "    rgba[:, 3] = (1 / (1 + np.exp(-rgba[:, 3]))) * 255\n",
    "    rgba = np.clip(rgba, 0, 255)\n",
    "\n",
    "    rots = rots.astype(np.uint8)\n",
    "    rgba = rgba.astype(np.uint8)\n",
    "\n",
    "    merged = np.empty((position.shape[0]),dtype=_dt)\n",
    "\n",
    "    merged['position'] = position\n",
    "    merged['scale'] = scales\n",
    "    merged['RGBA'] = rgba\n",
    "    merged['IJKL'] = rots\n",
    "\n",
    "    return merged\n"
   ],
   "metadata": {
    "collapsed": false
   },
   "outputs": [],
   "execution_count": null
  },
  {
   "cell_type": "code",
   "source": [
    "data = ply2np(point_cloud_path)\n",
    "print(data[0])\n",
    "save_path = f\"{os.path.dirname(point_cloud_path)}/output.splat\"\n",
    "np2splat(data, save_path)"
   ],
   "metadata": {
    "collapsed": false
   },
   "outputs": [],
   "execution_count": null
  },
  {
   "cell_type": "code",
   "source": [
    "import http.server\n",
    "import socketserver\n",
    "\n",
    "# 指定根目录的位置\n",
    "root_directory = './web/WebGLViewer'\n",
    "\n",
    "# 设置服务器的端口号\n",
    "port = 8000\n",
    "\n",
    "# 创建一个简单的 HTTP 请求处理器类\n",
    "Handler = http.server.SimpleHTTPRequestHandler\n",
    "\n",
    "# 指定根目录的位置\n",
    "Handler.directory = root_directory\n",
    "\n",
    "# 创建一个服务器，监听指定的端口\n",
    "with socketserver.TCPServer((\"\", port), Handler) as httpd:\n",
    "    print(f\"Serving at port {port}\")\n",
    "    # 启动服务器\n",
    "    httpd.serve_forever()\n"
   ],
   "metadata": {
    "collapsed": false
   },
   "outputs": [],
   "execution_count": null
  }
 ],
 "metadata": {
  "kernelspec": {
   "name": "arch_gaussian",
   "language": "python",
   "display_name": "arch_gaussian"
  },
  "language_info": {
   "codemirror_mode": {
    "name": "ipython",
    "version": 2
   },
   "file_extension": ".py",
   "mimetype": "text/x-python",
   "name": "python",
   "nbconvert_exporter": "python",
   "pygments_lexer": "ipython2",
   "version": "2.7.6"
  }
 },
 "nbformat": 4,
 "nbformat_minor": 0
}
