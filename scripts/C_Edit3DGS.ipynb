{
 "cells": [
  {
   "cell_type": "code",
   "execution_count": null,
   "outputs": [],
   "source": [
    "import os\n",
    "print(f\"当前目录: {os.getcwd()}\")\n",
    "if 'arch-gaussian' in os.listdir():\n",
    "    JUPYTER_ROOT = os.getcwd()\n",
    "    os.chdir('arch-gaussian')\n",
    "    print(f\"更改后的目录: {os.getcwd()}\")"
   ],
   "metadata": {
    "collapsed": false,
    "ExecuteTime": {
     "start_time": "2023-12-07T19:23:26.331110Z",
     "end_time": "2023-12-07T19:23:26.338111Z"
    }
   }
  },
  {
   "cell_type": "code",
   "execution_count": null,
   "outputs": [],
   "source": [
    "import config\n",
    "# 基础设置\n",
    "config.scene_name = \"TestCity7\" # 输入文件夹名称\n",
    "config.output_name = \"TestCity7\"  # 输出文件夹名称\n",
    "config.sh_degree = 3  # 0~3， 改为0可以缩小文件大小，但是无法被现有的unity工具识别， 推荐使用默认3\n",
    "config.epochs = 7000  # 训练轮次， 3000， 7000， 15000， 30000\n",
    "config.loaded_iter = 3000 # 加载训练好的模型\n",
    "# 高级设置\n",
    "config.resolution = 1 # 是否压缩图像，1为原尺寸，-1为自动压缩到不大于1600像素， 支持2的次方的数字\n",
    "config.densify_until_iter = 15000  # 致密化结束的轮次\n",
    "config.densify_grad_threshold = 0.0002  # 致密化的阈值，越小增加的越快\n",
    "\n",
    "# 配置结束，更新配置文件\n",
    "config.update_colmap_args()\n",
    "config.update_args()\n",
    "\n",
    "# 打印修改过后的参数\n",
    "config.print_updated_colmap_args()\n",
    "config.print_updated_args()\n"
   ],
   "metadata": {
    "collapsed": false,
    "ExecuteTime": {
     "start_time": "2023-12-07T19:23:27.803126Z",
     "end_time": "2023-12-07T19:23:29.069414Z"
    }
   }
  },
  {
   "cell_type": "code",
   "execution_count": null,
   "outputs": [],
   "source": [
    "%load_ext autoreload\n",
    "%autoreload 2\n",
    "import sys\n",
    "sys.path.append(\"./src\")\n",
    "import os\n",
    "import torch\n",
    "import numpy as np\n",
    "np.set_printoptions(suppress=True)\n",
    "from config import args  # 正式导入args"
   ],
   "metadata": {
    "collapsed": false,
    "ExecuteTime": {
     "start_time": "2023-12-07T19:23:29.050414Z",
     "end_time": "2023-12-07T19:23:32.036519Z"
    }
   }
  },
  {
   "cell_type": "markdown",
   "source": [
    "## 创建scene info 与修复"
   ],
   "metadata": {
    "collapsed": false
   }
  },
  {
   "cell_type": "code",
   "execution_count": null,
   "outputs": [],
   "source": [
    "# 创建scene info\n",
    "from manager.scene_manager import load_and_fix_scene\n",
    "\n",
    "scene_info = load_and_fix_scene(args)"
   ],
   "metadata": {
    "collapsed": false,
    "ExecuteTime": {
     "start_time": "2023-12-07T19:23:41.732761Z",
     "end_time": "2023-12-07T19:23:42.486194Z"
    }
   }
  },
  {
   "cell_type": "markdown",
   "source": [
    "## 导入相机"
   ],
   "metadata": {
    "collapsed": false
   }
  },
  {
   "cell_type": "code",
   "execution_count": null,
   "outputs": [],
   "source": [
    "from manager.camera_manager import CameraManager\n",
    "cm = CameraManager()\n",
    "train_cameras, test_cameras = cm.create_cameras(args, scene_info)\n"
   ],
   "metadata": {
    "collapsed": false,
    "ExecuteTime": {
     "start_time": "2023-12-07T19:23:44.515702Z",
     "end_time": "2023-12-07T19:23:47.031686Z"
    }
   }
  },
  {
   "cell_type": "markdown",
   "source": [
    "## 创建gaussian对象"
   ],
   "metadata": {
    "collapsed": false
   }
  },
  {
   "cell_type": "code",
   "execution_count": null,
   "outputs": [],
   "source": [
    "# 创建gaussian对象\n",
    "\n",
    "from manager.gaussian_manager import create_gaussian_from_ply, create_gaussian_from_scene_info\n",
    "if args.loaded_iter:\n",
    "    print(\"Creating gaussians from ply\")\n",
    "    gaussians = create_gaussian_from_ply(args.sh_degree, os.path.join(args.model_path,\"point_cloud\", \"iteration_\" + str(args.loaded_iter),\"point_cloud.ply\"))\n",
    "else:\n",
    "    print(\"Creating gaussians from scene info\")\n",
    "    gaussians = create_gaussian_from_scene_info(args.sh_degree, scene_info)\n",
    "\n",
    "print(f\"num points: {gaussians.get_xyz.shape[0]}\")"
   ],
   "metadata": {
    "collapsed": false,
    "ExecuteTime": {
     "start_time": "2023-12-07T19:23:48.305107Z",
     "end_time": "2023-12-07T19:23:49.080676Z"
    }
   }
  },
  {
   "cell_type": "markdown",
   "source": [
    "## 使用封装好的Gaussian Manager管理gaussian"
   ],
   "metadata": {
    "collapsed": false
   }
  },
  {
   "cell_type": "code",
   "execution_count": null,
   "outputs": [],
   "source": [
    "from manager.gaussian_manager import GaussianManager\n",
    "gm = GaussianManager(args, gaussians) # 从gaussians创建GaussianManager\n",
    "cam = cm.pick_camera(0)\n",
    "image = gm.render(cam, convert_to_pil=True)\n",
    "image"
   ],
   "metadata": {
    "collapsed": false,
    "ExecuteTime": {
     "start_time": "2023-12-07T19:23:50.460510Z",
     "end_time": "2023-12-07T19:23:51.647532Z"
    }
   }
  },
  {
   "cell_type": "markdown",
   "source": [
    "## 三维高斯编辑"
   ],
   "metadata": {
    "collapsed": false
   }
  },
  {
   "cell_type": "code",
   "execution_count": null,
   "outputs": [],
   "source": [
    "from manager.display_manager import Box, Geometry, Drawer\n",
    "bbox = (np.array([-0.5,0,-2]), np.array([0.5,0.5,-1.9]))\n",
    "\n",
    "mask = gm.position_mask(*bbox)\n",
    "\n",
    "box = Box(*bbox)\n",
    "drawer = Drawer()\n",
    "drawer.add_geometry(box)\n",
    "\n",
    "with gm.virtual():\n",
    "    gm.paint_by_mask(mask)\n",
    "    image = gm.render(cam, convert_to_pil= True)\n",
    "    image = drawer.draw(cam, image,overwrite=True)\n",
    "image"
   ],
   "metadata": {
    "collapsed": false,
    "ExecuteTime": {
     "start_time": "2023-12-07T19:23:54.768494Z",
     "end_time": "2023-12-07T19:23:55.205481Z"
    }
   }
  },
  {
   "cell_type": "code",
   "execution_count": null,
   "outputs": [],
   "source": [
    "with gm.virtual():\n",
    "    gm.set_color(0.5,mask)\n",
    "    gm.add_color_noise(1, mask)\n",
    "    image = gm.render(cam, convert_to_pil=True)\n",
    "image"
   ],
   "metadata": {
    "collapsed": false,
    "ExecuteTime": {
     "start_time": "2023-12-07T19:23:57.581494Z",
     "end_time": "2023-12-07T19:23:58.515466Z"
    }
   }
  },
  {
   "cell_type": "code",
   "execution_count": null,
   "outputs": [],
   "source": [
    "with gm.virtual():\n",
    "    gm.clear_features_rest(mask)\n",
    "    gm.set_color(0.5, mask)\n",
    "    gm.noise_position(mask, bbox)\n",
    "    image = gm.render(cam, convert_to_pil=True)\n",
    "image"
   ],
   "metadata": {
    "collapsed": false,
    "ExecuteTime": {
     "start_time": "2023-12-07T19:24:00.807618Z",
     "end_time": "2023-12-07T19:24:01.812665Z"
    }
   }
  },
  {
   "cell_type": "code",
   "execution_count": null,
   "outputs": [],
   "source": [
    "from utils.image_utils import get_pil_image, save_pil_image\n",
    "import torchvision.transforms.functional as TF\n",
    "\n",
    "def gt_socket(**kwargs):\n",
    "    \"\"\"\n",
    "    ground truth socket\n",
    "    作用为替换真实的gt image\n",
    "    \"\"\"\n",
    "    iteration = kwargs['iteration']\n",
    "    camera = kwargs['viewpoint_cam']\n",
    "\n",
    "    gt_image = camera.original_image\n",
    "    if iteration % 100 == 0:\n",
    "        pil_gt_image = get_pil_image(gt_image)\n",
    "        save_pil_image(pil_gt_image, os.path.join(args.model_path, \"snap_shots\", f\"{iteration:05d}_gt_org.jpg\"))\n",
    "    new_gt_image = TF.adjust_hue(gt_image, 0.4)\n",
    "    return new_gt_image\n",
    "\n",
    "def loss_socket(**kwargs):\n",
    "    \"\"\"\n",
    "    对真实计算出的loss进行更改\n",
    "    \"\"\"\n",
    "    global mask\n",
    "    iteration = kwargs['iteration']\n",
    "    if mask is None or gm.gaussians._xyz.shape[0] != mask.shape[0]:\n",
    "        print(f\"mask updated at iter {iteration}\")\n",
    "        mask = gm.position_mask(*bbox)\n",
    "    gm.clear_grads(~mask)\n",
    "\n",
    "snap_count = 0\n",
    "first_iter_end = 100+args.loaded_iter if args.loaded_iter else 100\n",
    "def post_socket(**kwargs):\n",
    "    \"\"\"\n",
    "    完成每一轮训练后的后处理内容\n",
    "    \"\"\"\n",
    "    args = kwargs['args']\n",
    "    iteration = kwargs['iteration']\n",
    "    image = kwargs['image']\n",
    "    gt_image = kwargs['gt_image']\n",
    "    gaussians = kwargs['gaussians']\n",
    "\n",
    "    global snap_count\n",
    "\n",
    "    if (iteration < first_iter_end and iteration % 10 == 0) or (iteration % 100 == 0):\n",
    "        pil_image = gm.render(cm.pick_camera(snap_count%len(cm.train_cameras[1.0])), convert_to_pil=True)\n",
    "        snap_count += 1\n",
    "        # pil_image = get_pil_image(image)\n",
    "        save_path = os.path.join(args.model_path, \"snap_shots\", f\"{snap_count:05d}.jpg\")\n",
    "        save_pil_image(pil_image, save_path)\n",
    "\n",
    "        #pil_gt_iamge = get_pil_image(gt_image)\n",
    "        #gt_save_path = os.path.join(args.model_path, \"snap_shots\", f\"{iteration:05d}_gt.jpg\")\n",
    "        #save_pil_image(pil_gt_iamge, gt_save_path)\n",
    "\n",
    "    if iteration % 1000 == 0:\n",
    "        print(gaussians.get_xyz.shape)"
   ],
   "metadata": {
    "collapsed": false,
    "ExecuteTime": {
     "start_time": "2023-12-07T19:24:04.754188Z",
     "end_time": "2023-12-07T19:24:04.883713Z"
    }
   }
  },
  {
   "cell_type": "code",
   "execution_count": null,
   "outputs": [],
   "source": [
    "from manager.train_manager import train, init_output_folder\n",
    "with gm.virtual():\n",
    "    init_output_folder(args, scene_info)\n",
    "\n",
    "    gm.clear_features_rest(mask)\n",
    "    gm.set_color(0.5, mask)\n",
    "    gm.noise_position(mask, bbox)\n",
    "\n",
    "    train(args,scene_info, gm.gaussians, cm.train_cameras, gt_socket=gt_socket,loss_socket=loss_socket, post_socket=post_socket)\n",
    "    image = gm.render(cam, convert_to_pil=True)\n",
    "image"
   ],
   "metadata": {
    "collapsed": false,
    "ExecuteTime": {
     "start_time": "2023-12-07T19:10:05.358038Z",
     "end_time": "2023-12-07T19:13:05.564561Z"
    }
   }
  },
  {
   "cell_type": "code",
   "execution_count": null,
   "outputs": [],
   "source": [
    "\n",
    "\n",
    "\n"
   ],
   "metadata": {
    "collapsed": false,
    "ExecuteTime": {
     "start_time": "2023-12-04T16:28:04.083517Z",
     "end_time": "2023-12-04T16:28:04.153517Z"
    }
   }
  },
  {
   "cell_type": "code",
   "execution_count": null,
   "outputs": [],
   "source": [],
   "metadata": {
    "collapsed": false,
    "ExecuteTime": {
     "start_time": "2023-12-04T16:28:08.167367Z",
     "end_time": "2023-12-04T16:30:09.212688Z"
    }
   }
  },
  {
   "cell_type": "code",
   "execution_count": null,
   "outputs": [],
   "source": [],
   "metadata": {
    "collapsed": false
   }
  },
  {
   "cell_type": "code",
   "execution_count": null,
   "outputs": [],
   "source": [],
   "metadata": {
    "collapsed": false
   }
  },
  {
   "cell_type": "code",
   "execution_count": null,
   "outputs": [],
   "source": [],
   "metadata": {
    "collapsed": false
   }
  },
  {
   "cell_type": "code",
   "execution_count": null,
   "outputs": [],
   "source": [],
   "metadata": {
    "collapsed": false
   }
  },
  {
   "cell_type": "code",
   "execution_count": null,
   "outputs": [],
   "source": [],
   "metadata": {
    "collapsed": false
   }
  },
  {
   "cell_type": "code",
   "execution_count": null,
   "outputs": [],
   "source": [],
   "metadata": {
    "collapsed": false
   }
  },
  {
   "cell_type": "code",
   "execution_count": null,
   "outputs": [],
   "source": [],
   "metadata": {
    "collapsed": false
   }
  },
  {
   "cell_type": "code",
   "execution_count": null,
   "outputs": [],
   "source": [],
   "metadata": {
    "collapsed": false
   }
  },
  {
   "cell_type": "code",
   "execution_count": null,
   "outputs": [],
   "source": [],
   "metadata": {
    "collapsed": false
   }
  },
  {
   "cell_type": "code",
   "execution_count": null,
   "outputs": [],
   "source": [],
   "metadata": {
    "collapsed": false
   }
  },
  {
   "cell_type": "code",
   "execution_count": null,
   "outputs": [],
   "source": [],
   "metadata": {
    "collapsed": false
   }
  },
  {
   "cell_type": "code",
   "execution_count": null,
   "outputs": [],
   "source": [
    "%load_ext autoreload\n",
    "%autoreload 2\n",
    "import os\n",
    "import sys\n",
    "sys.path.append('./src')\n",
    "import time\n",
    "import uuid\n",
    "from tqdm.auto import tqdm\n",
    "from random import randint\n",
    "from argparse import ArgumentParser, Namespace\n",
    "import torch\n",
    "import torchvision.transforms as transforms\n",
    "import torch.nn.functional as F\n",
    "from scene import Scene, GaussianModel\n",
    "from scene.dataset_readers import sceneLoadTypeCallbacks\n",
    "from scene.cameras import MiniCam\n",
    "from gaussian_renderer import render, network_gui\n",
    "\n",
    "from utils.loss_utils import l1_loss, ssim\n",
    "from utils.general_utils import safe_state\n",
    "from utils.image_utils import psnr\n",
    "from utils.camera_utils import loadCam, OrbitCamera\n",
    "from utils.arg_utils import parse_args\n",
    "import numpy as np\n",
    "np.set_printoptions(suppress=True)\n",
    "import dearpygui.dearpygui as dpg\n",
    "import open3d as o3d"
   ],
   "metadata": {
    "collapsed": false,
    "ExecuteTime": {
     "start_time": "2023-12-01T11:42:03.155289Z",
     "end_time": "2023-12-01T11:42:05.879004Z"
    }
   }
  },
  {
   "cell_type": "code",
   "execution_count": null,
   "outputs": [],
   "source": [
    "import config\n",
    "config.scene_name = \"TestCity6\"\n",
    "config.epochs = 15000\n",
    "config.update_args()\n",
    "config.update_colmap_args()\n",
    "from config import args, epochs\n",
    "print(args)"
   ],
   "metadata": {
    "collapsed": false,
    "ExecuteTime": {
     "start_time": "2023-12-01T11:42:10.249086Z",
     "end_time": "2023-12-01T11:42:10.366330Z"
    }
   }
  },
  {
   "cell_type": "code",
   "execution_count": null,
   "outputs": [],
   "source": [
    "dataset, opt, pipe = parse_args(args)\n",
    "ply_path = os.path.join(dataset.model_path,\n",
    "                        \"point_cloud\",\n",
    "                        \"iteration_\" + str(epochs),\n",
    "                        \"point_cloud.ply\")\n",
    "print(f\"ply file path: {ply_path}\")\n"
   ],
   "metadata": {
    "collapsed": false,
    "ExecuteTime": {
     "start_time": "2023-12-01T11:42:13.254617Z",
     "end_time": "2023-12-01T11:42:13.361755Z"
    }
   }
  },
  {
   "cell_type": "code",
   "execution_count": null,
   "outputs": [],
   "source": [
    "gaussians = GaussianModel(dataset.sh_degree)\n",
    "gaussians.load_ply(ply_path)\n"
   ],
   "metadata": {
    "collapsed": false,
    "ExecuteTime": {
     "start_time": "2023-12-01T11:42:16.821434Z",
     "end_time": "2023-12-01T11:42:20.036649Z"
    }
   }
  },
  {
   "cell_type": "code",
   "execution_count": null,
   "outputs": [],
   "source": [
    "print(gaussians.get_xyz.shape)\n",
    "print(gaussians._features_dc.shape)\n",
    "print(gaussians._features_rest.shape)\n",
    "print(gaussians._rotation.shape)\n",
    "print(gaussians._scaling.shape)\n",
    "print(gaussians.denom.shape)\n"
   ],
   "metadata": {
    "collapsed": false,
    "ExecuteTime": {
     "start_time": "2023-12-01T11:42:20.050049Z",
     "end_time": "2023-12-01T11:42:20.104657Z"
    }
   }
  },
  {
   "cell_type": "code",
   "execution_count": null,
   "outputs": [],
   "source": [
    "def get_gaussians_size(gaussians):\n",
    "    _xyz_size = gaussians._xyz.element_size() * gaussians._xyz.nelement() / 1024 / 1024\n",
    "    _features_dc_size = gaussians._features_dc.element_size() * gaussians._features_dc.nelement() / 1024 / 1024\n",
    "    _features_rest_size = gaussians._features_rest.element_size() * gaussians._features_rest.nelement() / 1024 / 1024\n",
    "    _scaling_size = gaussians._scaling.element_size() * gaussians._scaling.nelement() / 1024 / 1024\n",
    "    _rotation_size = gaussians._rotation.element_size() * gaussians._rotation.nelement() / 1024 / 1024\n",
    "    _opacity_size = gaussians._opacity.element_size() * gaussians._opacity.nelement() / 1024 / 1024\n",
    "    max_radii2D_size = gaussians.max_radii2D.element_size() * gaussians.max_radii2D.nelement() / 1024 / 1024\n",
    "    xyz_gradient_accum_size = gaussians.xyz_gradient_accum.element_size() * gaussians.xyz_gradient_accum.nelement() / 1024 / 1024\n",
    "    denom_size = gaussians.denom.element_size() * gaussians.denom.nelement() / 1024 / 1024\n",
    "    total_size = _xyz_size + _features_dc_size + _features_rest_size + _scaling_size + _rotation_size + _opacity_size + max_radii2D_size + xyz_gradient_accum_size + denom_size\n",
    "    return total_size\n",
    "print(f\"gaussians内存占用估算： {get_gaussians_size(gaussians):.2f}MB\")"
   ],
   "metadata": {
    "collapsed": false,
    "ExecuteTime": {
     "start_time": "2023-12-01T11:42:26.794904Z",
     "end_time": "2023-12-01T11:42:27.397048Z"
    }
   }
  },
  {
   "cell_type": "code",
   "execution_count": null,
   "outputs": [],
   "source": [
    "bg_color = [1, 1, 1] if dataset.white_background else [0, 0, 0]\n",
    "background = torch.tensor(bg_color, dtype=torch.float32, device=\"cuda\")"
   ],
   "metadata": {
    "collapsed": false,
    "ExecuteTime": {
     "start_time": "2023-12-01T11:42:27.383286Z",
     "end_time": "2023-12-01T11:42:27.561714Z"
    }
   }
  },
  {
   "cell_type": "code",
   "execution_count": null,
   "outputs": [],
   "source": [
    "# # creating cam\n",
    "# scene_info = sceneLoadTypeCallbacks[\"Colmap\"](args.source_path, args.images, args.eval)\n",
    "# cam_info = scene_info.train_cameras[0]"
   ],
   "metadata": {
    "collapsed": false,
    "ExecuteTime": {
     "start_time": "2023-12-01T11:42:30.284005Z",
     "end_time": "2023-12-01T11:42:30.342177Z"
    }
   }
  },
  {
   "cell_type": "code",
   "execution_count": null,
   "outputs": [],
   "source": [
    "# cam = loadCam(args=args, id=0, cam_info=cam_info, resolution_scale=1)"
   ],
   "metadata": {
    "collapsed": false,
    "ExecuteTime": {
     "start_time": "2023-12-01T11:42:32.156152Z",
     "end_time": "2023-12-01T11:42:32.374659Z"
    }
   }
  },
  {
   "cell_type": "code",
   "execution_count": null,
   "outputs": [],
   "source": [
    "import json\n",
    "# 打开JSON文件\n",
    "with open(os.path.join(args.model_path, \"cameras.json\")) as f:\n",
    "    # 使用json.load()方法加载JSON数据\n",
    "    camera_info_list = json.load(f)\n",
    "\n",
    "print(camera_info_list[0].keys())\n"
   ],
   "metadata": {
    "collapsed": false,
    "ExecuteTime": {
     "start_time": "2023-12-01T11:42:34.511442Z",
     "end_time": "2023-12-01T11:42:34.576350Z"
    }
   }
  },
  {
   "cell_type": "code",
   "execution_count": null,
   "outputs": [],
   "source": [
    "from scene.cameras import MiniCam\n",
    "\n",
    "cam = camera_info_list[0]\n",
    "mini_cam = MiniCam(np.array(cam['position']), np.array(cam['rotation']), cam['width'], cam['height'], cam['fx'], cam['fy'])\n",
    "print(cam['width'])\n",
    "print(cam['height'])\n",
    "print(cam['fx'])\n",
    "print(cam['fy'])\n",
    "print(mini_cam.image_width)\n",
    "print(mini_cam.image_height)\n",
    "print(mini_cam.FoVx)\n",
    "print(mini_cam.FoVy)\n"
   ],
   "metadata": {
    "collapsed": false,
    "ExecuteTime": {
     "start_time": "2023-12-01T11:42:36.506278Z",
     "end_time": "2023-12-01T11:42:36.655820Z"
    }
   }
  },
  {
   "cell_type": "code",
   "execution_count": null,
   "outputs": [],
   "source": [
    "print(mini_cam.get_transform())"
   ],
   "metadata": {
    "collapsed": false,
    "ExecuteTime": {
     "start_time": "2023-11-29T20:04:07.171536Z",
     "end_time": "2023-11-29T20:04:07.276047Z"
    }
   }
  },
  {
   "cell_type": "code",
   "execution_count": null,
   "outputs": [],
   "source": [
    "\n",
    "fov_degrees = 2 * math.degrees(math.atan(math.tan(fov_radians / 2) * (image_width / image_height)))"
   ],
   "metadata": {
    "collapsed": false
   }
  },
  {
   "cell_type": "code",
   "execution_count": null,
   "outputs": [],
   "source": [
    "mini_cam.set_transform(np.array([1,5,-1]), np.array([110,-10,20]))\n",
    "print(mini_cam.get_transform())"
   ],
   "metadata": {
    "collapsed": false,
    "ExecuteTime": {
     "start_time": "2023-11-29T20:09:35.420728Z",
     "end_time": "2023-11-29T20:09:35.536240Z"
    }
   }
  },
  {
   "cell_type": "code",
   "execution_count": null,
   "outputs": [],
   "source": [
    "from PIL import Image\n",
    "def render_img(_mini_cam, _gaussian_obj, _pipe, _background, scale = 1.0):\n",
    "    with torch.no_grad():\n",
    "\n",
    "        render_pkg = render(_mini_cam, _gaussian_obj, _pipe, _background)\n",
    "\n",
    "        buffer_image = render_pkg[\"render\"]\n",
    "        # print(buffer_image.shape)\n",
    "        # HH = int(_mini_cam.image_height * scale)\n",
    "        # WW = int(_mini_cam.image_width * scale)\n",
    "        # buffer_image = F.interpolate(\n",
    "        #     buffer_image.unsqueeze(0),\n",
    "        #     size=(HH, WW),\n",
    "        #     mode=\"bilinear\",\n",
    "        #     align_corners=False,\n",
    "        # ).squeeze(0)\n",
    "        #\n",
    "        # buffer_image = (\n",
    "        #     buffer_image.permute(1, 2, 0)\n",
    "        #     .contiguous()\n",
    "        #     .clamp(0, 1)\n",
    "        #     .contiguous()\n",
    "        #     .detach()\n",
    "        #     .cpu()\n",
    "        #     .numpy()\n",
    "        # )\n",
    "\n",
    "        buffer_image = buffer_image.permute(1, 2, 0).clamp(0, 1).detach().cpu().numpy()\n",
    "        buffer_image *=255\n",
    "        buffer_image = buffer_image.astype(np.uint8)\n",
    "        print(buffer_image.shape)\n",
    "        print(buffer_image.dtype)\n",
    "        return Image.fromarray(buffer_image.astype(np.uint8))\n",
    "\n",
    "img = render_img(mini_cam, gaussians, pipe, background, scale=0.5)\n",
    "img\n"
   ],
   "metadata": {
    "collapsed": false,
    "ExecuteTime": {
     "start_time": "2023-11-29T20:09:36.696299Z",
     "end_time": "2023-11-29T20:09:37.753457Z"
    }
   }
  },
  {
   "cell_type": "code",
   "execution_count": null,
   "outputs": [],
   "source": [
    "%load_ext autoreload\n",
    "%autoreload 2\n",
    "# 使用 %autoreload 2 会在模块被修改后自动重新加载。\n",
    "from utils.transpose_utils import TransposeHelper, MatrixFormat"
   ],
   "metadata": {
    "collapsed": false,
    "ExecuteTime": {
     "start_time": "2023-11-26T12:53:09.789781Z",
     "end_time": "2023-11-26T12:53:09.949287Z"
    }
   }
  },
  {
   "cell_type": "code",
   "execution_count": null,
   "outputs": [],
   "source": [
    "import copy\n",
    "modified_gaussians = copy.deepcopy(gaussians)\n"
   ],
   "metadata": {
    "collapsed": false,
    "ExecuteTime": {
     "start_time": "2023-11-26T12:53:32.224907Z",
     "end_time": "2023-11-26T12:53:32.338505Z"
    }
   }
  },
  {
   "cell_type": "code",
   "execution_count": null,
   "outputs": [],
   "source": [
    "# 将numpy数组转换为Open3D的PointCloud对象\n",
    "point_cloud = o3d.geometry.PointCloud()\n",
    "\n",
    "_xyz = modified_gaussians.get_xyz.detach().cpu().numpy()\n",
    "print(\"xyz最小值:\", np.min(_xyz))\n",
    "print(\"xyz最大值:\", np.max(_xyz))\n",
    "# 使用reshape函数改变数组形状\n",
    "_features_dc = modified_gaussians._features_dc.detach().cpu().numpy()\n",
    "_features_dc = _features_dc.reshape((_features_dc.shape[0], _features_dc.shape[2]))\n",
    "print(\"_features_dc最小值:\", np.min(_features_dc))\n",
    "print(\"_features_dc最大值:\", np.max(_features_dc))\n",
    "point_cloud.points = o3d.utility.Vector3dVector(_xyz)\n",
    "# 设置点的颜色\n",
    "point_cloud.colors = o3d.utility.Vector3dVector(_features_dc)\n",
    "\n",
    "# 创建numpy数组表示三条线段的起点和终点\n",
    "start_points = np.array([[0, 0, 0], [0, 0, 0], [0, 0, 0]])\n",
    "end_points = np.array([[10, 0, 0], [0, 30, 0], [0, 0, 50]])\n",
    "\n",
    "# 创建LineSet对象\n",
    "line_set = o3d.geometry.LineSet()\n",
    "line_set.points = o3d.utility.Vector3dVector(np.concatenate([start_points, end_points], axis=0))\n",
    "print(np.concatenate([start_points, end_points], axis=0))\n",
    "line_set.lines = o3d.utility.Vector2iVector(np.array([[0, 3], [1, 4], [2, 5]]))\n",
    "\n",
    "# 创建三种颜色\n",
    "colors = np.array([[1, 0, 0], [0, 1, 0], [0, 0, 1]]).astype(np.float32)\n",
    "\n",
    "# 将颜色属性赋值给LineSet对象\n",
    "line_set.colors = o3d.utility.Vector3dVector(np.concatenate([colors, colors], axis=0))\n",
    "print(np.concatenate([colors, colors], axis=0))\n",
    "\n",
    "# 将点云和线段添加到显示的几何图形列表中\n",
    "# o3d.visualization.draw_geometries([point_cloud, line_set])"
   ],
   "metadata": {
    "collapsed": false,
    "ExecuteTime": {
     "start_time": "2023-11-26T13:08:17.791193Z",
     "end_time": "2023-11-26T13:08:18.871117Z"
    }
   }
  },
  {
   "cell_type": "code",
   "execution_count": null,
   "outputs": [],
   "source": [
    "transpose_helper = TransposeHelper(args, scene_info)\n",
    "ground_up_vector = transpose_helper.get_ground_up_vector_auto(True)"
   ],
   "metadata": {
    "collapsed": false,
    "ExecuteTime": {
     "start_time": "2023-11-25T22:10:56.714711Z",
     "end_time": "2023-11-25T22:10:57.232489Z"
    }
   }
  },
  {
   "cell_type": "code",
   "execution_count": null,
   "outputs": [],
   "source": [
    "from scipy.spatial.transform import Rotation as R\n",
    "def rotate_vec3(_pts:np.ndarray, _rotation:R)->np.ndarray:\n",
    "    \"\"\"\n",
    "    input : [n, 3] (np.ndarray cpu float32)\n",
    "            scipy.spatial.transform.Rotation\n",
    "    output: [n, 3] (np.ndarray cpu float32)\n",
    "    \"\"\"\n",
    "    with torch.no_grad():\n",
    "        return _rotation.apply(_pts).astype(np.float32)\n",
    "\n",
    "\n",
    "org_pts = modified_gaussians.get_xyz.detach().cpu().numpy()\n",
    "rotation = transpose_helper.get_calibration_rotation()\n",
    "\n",
    "rotated_pts = rotate_vec3(org_pts, rotation)\n",
    "org_pts2 = rotate_vec3(rotated_pts, rotation.inv())\n",
    "\n",
    "print(\"org_pts[0]:\",org_pts[0], end=\"  \")\n",
    "print(org_pts.dtype)\n",
    "print('->')\n",
    "print(\"rotated_pts[0]:\",rotated_pts[0], end=\"  \")\n",
    "print(rotated_pts.dtype)\n",
    "print('->')\n",
    "print(\"org_pts2[0]:\",org_pts2[0], end=\"  \")\n",
    "print(org_pts2.dtype)"
   ],
   "metadata": {
    "collapsed": false,
    "ExecuteTime": {
     "start_time": "2023-11-25T22:10:57.471547Z",
     "end_time": "2023-11-25T22:10:57.665523Z"
    }
   }
  },
  {
   "cell_type": "code",
   "execution_count": null,
   "outputs": [],
   "source": [
    "def rotate_quaternion(_quaternion:np.ndarray, _rotation:R)->np.ndarray:\n",
    "    \"\"\"\n",
    "    input : [n, 4] (np.ndarray cpu float32)\n",
    "            scipy.spatial.transform.Rotation\n",
    "    output: [n, 4] (np.ndarray cpu float32)\n",
    "    \"\"\"\n",
    "    org_r = R.from_quat(_quaternion)\n",
    "    out_r = org_r * _rotation\n",
    "    return out_r.as_quat().astype(np.float32)\n",
    "\n",
    "\n",
    "org_quaternion = modified_gaussians.get_rotation.detach().cpu().numpy()\n",
    "rotation = transpose_helper.get_calibration_rotation()\n",
    "rotated_quaternion = rotate_quaternion(org_quaternion, rotation)\n",
    "org_quaternion2 = rotate_quaternion(rotated_quaternion, rotation.inv())\n",
    "print(\"org_quaternion[0]:\",org_quaternion[0], end=\"  \")\n",
    "print(org_quaternion.dtype)\n",
    "print('->')\n",
    "print(\"rotated_quaternion[0]:\",rotated_quaternion[0], end=\"  \")\n",
    "print(rotated_quaternion.dtype)\n",
    "print('->')\n",
    "print(\"org_quaternion2[0]:\",org_quaternion2[0], end=\"  \")\n",
    "print(org_quaternion2.dtype)\n"
   ],
   "metadata": {
    "collapsed": false,
    "ExecuteTime": {
     "start_time": "2023-11-25T22:10:58.276909Z",
     "end_time": "2023-11-25T22:10:59.169290Z"
    }
   }
  },
  {
   "cell_type": "code",
   "execution_count": null,
   "outputs": [],
   "source": [
    "\"\"\"apply to gaussian model\"\"\"\n",
    "# apply pts\n",
    "with torch.no_grad():\n",
    "    modified_gaussians._xyz = torch.tensor(rotated_pts).cuda().requires_grad_(True)\n",
    "    # modified_gaussians._rotation = torch.tensor(rotated_quaternion).cuda().requires_grad_(True)\n"
   ],
   "metadata": {
    "collapsed": false,
    "ExecuteTime": {
     "start_time": "2023-11-25T22:11:00.409883Z",
     "end_time": "2023-11-25T22:11:00.515390Z"
    }
   }
  },
  {
   "cell_type": "code",
   "execution_count": null,
   "outputs": [],
   "source": [
    "new_orbit_cam = copy.deepcopy(orbit_cam)\n",
    "new_orbit_cam.orbit(1200,200)\n",
    "new_orbit_cam.pan(0,0)\n",
    "new_orbit_cam.radius = 1\n",
    "print(new_orbit_cam.radius)\n",
    "print(new_orbit_cam.center)\n",
    "mini_cam.update(new_orbit_cam)\n",
    "\n",
    "img = render_img(mini_cam, modified_gaussians, pipe, background, scale=1)\n",
    "img"
   ],
   "metadata": {
    "collapsed": false,
    "ExecuteTime": {
     "start_time": "2023-11-25T22:12:42.200532Z",
     "end_time": "2023-11-25T22:12:42.576902Z"
    }
   }
  },
  {
   "cell_type": "code",
   "execution_count": null,
   "outputs": [],
   "source": [
    "# apply rotation\n",
    "with torch.no_grad():\n",
    "    # modified_gaussians._xyz = torch.tensor(rotated_pts).cuda().requires_grad_(True)\n",
    "    modified_gaussians._rotation = torch.tensor(rotated_quaternion).cuda().requires_grad_(True)"
   ],
   "metadata": {
    "collapsed": false,
    "ExecuteTime": {
     "start_time": "2023-11-25T22:13:13.521038Z",
     "end_time": "2023-11-25T22:13:13.594038Z"
    }
   }
  },
  {
   "cell_type": "code",
   "execution_count": null,
   "outputs": [],
   "source": [
    "img = render_img(mini_cam, modified_gaussians, pipe, background, scale=1)\n",
    "img"
   ],
   "metadata": {
    "collapsed": false,
    "ExecuteTime": {
     "start_time": "2023-11-25T22:13:29.688040Z",
     "end_time": "2023-11-25T22:13:30.043090Z"
    }
   }
  },
  {
   "cell_type": "code",
   "execution_count": null,
   "outputs": [],
   "source": [
    "from PIL import Image, ImageDraw, ImageFont\n",
    "from IPython.display import FileLink\n",
    "from datetime import datetime\n",
    "import uuid\n",
    "new_orbit_cam = copy.deepcopy(orbit_cam)\n",
    "\n",
    "\n",
    "orbit_x = 0\n",
    "orbit_x_step = 100\n",
    "\n",
    "\n",
    "font_path = \"./fonts/arial.ttf\"\n",
    "font = ImageFont.truetype(font_path, 40)\n",
    "\n",
    "# 或者指定 TrueType 字体文件（需要提供正确的字体文件路径）\n",
    "# font_path = \"path/to/your/font.ttf\"\n",
    "# font = ImageFont.truetype(font_path, font_size)\n",
    "cache_path = f\"cache/{uuid.uuid4()}\"\n",
    "image_paths = []\n",
    "if not os.path.exists(cache_path):\n",
    "    os.makedirs(cache_path)\n",
    "\n",
    "for i in tqdm(range(1)):\n",
    "    orbit_x += orbit_x_step\n",
    "    new_orbit_cam.orbit(orbit_x_step,0)\n",
    "    new_orbit_cam.pan(0,0)\n",
    "    orbit_x += orbit_x_step\n",
    "    mini_cam.update(new_orbit_cam)\n",
    "\n",
    "    img = render_img(mini_cam, modified_gaussians, pipe, background, scale=1)\n",
    "\n",
    "    # 在左上角添加文字\n",
    "    draw = ImageDraw.Draw(img)\n",
    "    text = f\"orbit_x {orbit_x}\"\n",
    "    draw.text((5, 5), text, fill='red', font=font)\n",
    "    image_path = os.path.join(cache_path, f\"{i:05d}.jpg\")\n",
    "    image_paths.append(image_path)\n",
    "    img.save(image_path)\n",
    "\n",
    "print(image_paths[-1])\n",
    "time.sleep(1)\n",
    "\n",
    "path = os.path.join('arch-gaussian', image_paths[-1])\n",
    "print(path)\n",
    "download_link = FileLink(path)\n",
    "download_link"
   ],
   "metadata": {
    "collapsed": false,
    "ExecuteTime": {
     "start_time": "2023-11-25T21:57:34.492956Z",
     "end_time": "2023-11-25T21:57:35.779672Z"
    }
   }
  },
  {
   "cell_type": "code",
   "execution_count": null,
   "outputs": [],
   "source": [
    "\n"
   ],
   "metadata": {
    "collapsed": false,
    "ExecuteTime": {
     "start_time": "2023-11-25T17:31:21.591507Z",
     "end_time": "2023-11-25T17:31:21.621508Z"
    }
   }
  },
  {
   "cell_type": "code",
   "execution_count": null,
   "outputs": [],
   "source": [
    "# 将numpy数组转换为Open3D的PointCloud对象\n",
    "point_cloud = o3d.geometry.PointCloud()\n",
    "point_cloud.points = o3d.utility.Vector3dVector(gaussians.get_xyz.detach().cpu().numpy())\n",
    "\n",
    "# 创建numpy数组表示三条线段的起点和终点\n",
    "start_points = np.array([[0, 0, 0], [0, 0, 0], [0, 0, 0]])\n",
    "end_points = np.array([[10, 0, 0], [0, 30, 0], [0, 0, 50]])\n",
    "\n",
    "# 创建LineSet对象\n",
    "line_set = o3d.geometry.LineSet()\n",
    "line_set.points = o3d.utility.Vector3dVector(np.concatenate([start_points, end_points], axis=0))\n",
    "print(np.concatenate([start_points, end_points], axis=0))\n",
    "line_set.lines = o3d.utility.Vector2iVector(np.array([[0, 3], [1, 4], [2, 5]]))\n",
    "\n",
    "# 创建三种颜色\n",
    "colors = np.array([[1, 0, 0], [0, 1, 0], [0, 0, 1]]).astype(np.float32)\n",
    "\n",
    "# 将颜色属性赋值给LineSet对象\n",
    "line_set.colors = o3d.utility.Vector3dVector(np.concatenate([colors, colors], axis=0))\n",
    "print(np.concatenate([colors, colors], axis=0))\n",
    "\n",
    "# 将点云和线段添加到显示的几何图形列表中\n",
    "o3d.visualization.draw_geometries([point_cloud, line_set])"
   ],
   "metadata": {
    "collapsed": false,
    "ExecuteTime": {
     "start_time": "2023-11-25T23:49:01.664013Z",
     "end_time": "2023-11-25T23:49:15.011594Z"
    }
   }
  },
  {
   "cell_type": "code",
   "execution_count": null,
   "outputs": [],
   "source": [],
   "metadata": {
    "collapsed": false
   }
  },
  {
   "cell_type": "code",
   "execution_count": null,
   "outputs": [],
   "source": [
    "\n",
    "with torch.no_grad():\n",
    "    # 定义坐标范围\n",
    "    min_coord = torch.tensor([0.0, 0.0, 0.0]).cuda()\n",
    "    max_coord = torch.tensor([1, 1, 100]).cuda()\n",
    "\n",
    "    mask = (modified_gaussians.get_xyz >= min_coord) & (modified_gaussians.get_xyz <= max_coord)\n",
    "    selected_indices = torch.all(mask, dim=1)\n",
    "    modified_gaussians._features_dc[selected_indices] = torch.tensor([-2.0,-2.0, -2.0]).cuda()\n",
    "    print(modified_gaussians._features_rest.shape)\n",
    "    modified_gaussians._features_rest[selected_indices] = torch.zeros([15,3]).cuda()\n"
   ],
   "metadata": {
    "collapsed": false,
    "ExecuteTime": {
     "start_time": "2023-11-22T18:27:42.632496Z",
     "end_time": "2023-11-22T18:27:42.732352Z"
    }
   }
  },
  {
   "cell_type": "code",
   "execution_count": null,
   "outputs": [],
   "source": [],
   "metadata": {
    "collapsed": false
   }
  }
 ],
 "metadata": {
  "kernelspec": {
   "name": "arch_gaussian",
   "language": "python",
   "display_name": "arch_gaussian"
  },
  "language_info": {
   "codemirror_mode": {
    "name": "ipython",
    "version": 2
   },
   "file_extension": ".py",
   "mimetype": "text/x-python",
   "name": "python",
   "nbconvert_exporter": "python",
   "pygments_lexer": "ipython2",
   "version": "2.7.6"
  }
 },
 "nbformat": 4,
 "nbformat_minor": 0
}
