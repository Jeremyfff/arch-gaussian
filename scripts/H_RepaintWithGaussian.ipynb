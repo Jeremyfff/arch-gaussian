{
 "cells": [
  {
   "cell_type": "code",
   "id": "initial_id",
   "metadata": {
    "collapsed": true
   },
   "source": [
    "import os\n",
    "print(f\"当前目录: {os.getcwd()}\")\n",
    "if 'arch-gaussian' in os.listdir():\n",
    "    JUPYTER_ROOT = os.getcwd()\n",
    "    os.chdir('arch-gaussian')\n",
    "    print(f\"更改后的目录: {os.getcwd()}\")\n",
    "#针对远程jupyter目录的操作， 本地运行可以无视\n",
    "if 'scripts' in os.getcwd():\n",
    "    os.chdir(\"..\")\n",
    "    print(f\"更改后的目录: {os.getcwd()}\")\n"
   ],
   "outputs": [],
   "execution_count": null
  },
  {
   "metadata": {},
   "cell_type": "code",
   "source": [
    "import config\n",
    "\n",
    "# 基础设置\n",
    "config.project_root = r\"D:\\M.Arch\\MastersThesis\\ArchGaussian-Project\\shared\"\n",
    "config.scene_name = r\"Nanjing\\Jimingsi\" # 输入文件夹名称\n",
    "config.output_name = r\"Nanjing\\Jimingsi\"  # 输出文件夹名称\n",
    "config.sh_degree = 3  # 0~3， 改为0可以缩小文件大小，但是无法被现有的unity工具识别， 推荐使用默认3\n",
    "config.epochs = 1000  # 训练轮次， 3000， 7000， 15000， 30000\n",
    "config.loaded_iter = None # 是否加载已经训练好的轮次，None 或数字\n",
    "# 高级设置\n",
    "config.resolution = 1 # 是否压缩图像，1为原尺寸，-1为自动压缩到不大于1600像素， 支持2的次方的数字\n",
    "config.densify_until_iter = 15000  # 致密化结束的轮次\n",
    "config.densify_grad_threshold = 0.0002  # 致密化的阈值，越小增加的越快\n",
    "\n",
    "# 配置结束，更新配置文件\n",
    "config.update_colmap_args()\n",
    "config.update_args()\n",
    "\n",
    "# 打印修改过后的参数\n",
    "config.print_updated_colmap_args()\n",
    "config.print_updated_args()"
   ],
   "id": "82a1514bfdd04c5d",
   "outputs": [],
   "execution_count": null
  },
  {
   "metadata": {},
   "cell_type": "code",
   "source": [
    "%load_ext autoreload\n",
    "%autoreload 2\n",
    "import sys\n",
    "sys.path.append(\"./src\")\n",
    "import os\n",
    "import torch\n",
    "import numpy as np\n",
    "np.set_printoptions(suppress=True)\n",
    "from config import args  # 正式导入args\n"
   ],
   "id": "222848c486663297",
   "outputs": [],
   "execution_count": null
  },
  {
   "metadata": {},
   "cell_type": "code",
   "source": "print(sys.path)",
   "id": "646fb595bc32098d",
   "outputs": [],
   "execution_count": null
  },
  {
   "metadata": {},
   "cell_type": "code",
   "source": [
    "# 创建scene info\n",
    "from manager.scene_manager import load_and_fix_scene\n",
    "\n",
    "# 根据相机姿态，自动估算地面向上向量，并将场景\n",
    "scene_manager = load_and_fix_scene(args)\n"
   ],
   "id": "c95d30ca676738ad",
   "outputs": [],
   "execution_count": null
  },
  {
   "metadata": {},
   "cell_type": "code",
   "source": [
    "from manager.camera_manager import CameraManager\n",
    "cm = CameraManager()\n",
    "train_cameras, test_cameras = cm.create_cameras(args, scene_manager.scene_info)"
   ],
   "id": "123b92ebbe4dd01e",
   "outputs": [],
   "execution_count": null
  },
  {
   "metadata": {},
   "cell_type": "code",
   "source": [
    "from manager.gaussian_manager import GaussianManager\n",
    "gm = GaussianManager(args, scene_manager.scene_info)\n",
    "print(f\"num points: {gm.gaussians.get_xyz.shape[0]}\")"
   ],
   "id": "a0ba848695fe293f",
   "outputs": [],
   "execution_count": null
  },
  {
   "metadata": {},
   "cell_type": "code",
   "source": [
    "from manager.train_manager import init_snapshot, take_snapshot, SnapshotCameraMode, SnapshotFilenameMode\n",
    "init_snapshot(0)\n",
    "def post_socket(**kwargs):\n",
    "    \"\"\"完成每一轮训练后的后处理内容\"\"\"\n",
    "    _iteration = kwargs['iteration']\n",
    "    take_snapshot(cm, gm,\n",
    "                  _camera_mode=SnapshotCameraMode.SLOW_ROTATE,\n",
    "                  _slow_ratio=5,\n",
    "                  _filename_mode=SnapshotFilenameMode.BY_SNAP_COUNT,\n",
    "                  _folder_name=\"snapshots\",\n",
    "                  _iteration_gap=100,\n",
    "                  _first_period_iteration_gap=10,\n",
    "                  _first_period_end=400,\n",
    "                  **kwargs)\n",
    "    _gaussians = kwargs['gaussians']\n",
    "    if _iteration % 1000 == 0:\n",
    "        print(_gaussians.get_xyz.shape)"
   ],
   "id": "c4a2cbd167953553",
   "outputs": [],
   "execution_count": null
  },
  {
   "metadata": {},
   "cell_type": "code",
   "source": [
    "from manager.train_manager import train, init_output_folder\n",
    "\n",
    "init_output_folder(args, scene_manager.scene_info)\n",
    "train(args,scene_manager.scene_info, gm.gaussians, cm.train_cameras, post_socket=post_socket)"
   ],
   "id": "23d6eef3443f880a",
   "outputs": [],
   "execution_count": null
  },
  {
   "metadata": {},
   "cell_type": "code",
   "source": [
    "from manager.gaussian_manager import GaussianManager\n",
    "gm = GaussianManager(args, gm.gaussians) # 从gaussians创建GaussianManager\n",
    "cam = cm.pick_camera(0)\n",
    "image = gm.render(cam, convert_to_pil=True)\n",
    "image"
   ],
   "id": "d1894035f7fb87c8",
   "outputs": [],
   "execution_count": null
  },
  {
   "metadata": {},
   "cell_type": "code",
   "source": "",
   "id": "9408fd8b05931dee",
   "outputs": [],
   "execution_count": null
  }
 ],
 "metadata": {
  "kernelspec": {
   "display_name": "Python 3",
   "language": "python",
   "name": "python3"
  },
  "language_info": {
   "codemirror_mode": {
    "name": "ipython",
    "version": 2
   },
   "file_extension": ".py",
   "mimetype": "text/x-python",
   "name": "python",
   "nbconvert_exporter": "python",
   "pygments_lexer": "ipython2",
   "version": "2.7.6"
  }
 },
 "nbformat": 4,
 "nbformat_minor": 5
}
