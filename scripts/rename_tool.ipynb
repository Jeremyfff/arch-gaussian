{
 "cells": [
  {
   "cell_type": "code",
   "execution_count": null,
   "metadata": {
    "collapsed": true,
    "ExecuteTime": {
     "start_time": "2023-12-20T19:28:46.922278Z",
     "end_time": "2023-12-20T19:28:46.966277Z"
    }
   },
   "outputs": [],
   "source": [
    "import os\n",
    "\n",
    "# 指定图片文件夹路径\n",
    "folder_path = r'D:\\M.Arch\\MastersThesis\\arch-gaussian\\output\\Sipailou\\Jimingsi\\snap_shots'\n",
    "\n",
    "# 获取文件夹下所有图片文件\n",
    "image_files = [f for f in os.listdir(folder_path) if f.endswith('.jpg')]\n",
    "\n",
    "# 按文件名排序\n",
    "image_files.sort()\n",
    "\n",
    "# 重命名文件\n",
    "for i, file in enumerate(image_files, start=1):\n",
    "    old_path = os.path.join(folder_path, file)\n",
    "    new_path = os.path.join(folder_path, '{:05d}.jpg'.format(i))\n",
    "    os.rename(old_path, new_path)"
   ]
  },
  {
   "cell_type": "code",
   "execution_count": null,
   "outputs": [],
   "source": [],
   "metadata": {
    "collapsed": false
   }
  }
 ],
 "metadata": {
  "kernelspec": {
   "display_name": "Python 3",
   "language": "python",
   "name": "python3"
  },
  "language_info": {
   "codemirror_mode": {
    "name": "ipython",
    "version": 2
   },
   "file_extension": ".py",
   "mimetype": "text/x-python",
   "name": "python",
   "nbconvert_exporter": "python",
   "pygments_lexer": "ipython2",
   "version": "2.7.6"
  }
 },
 "nbformat": 4,
 "nbformat_minor": 0
}
