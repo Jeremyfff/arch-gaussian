{
 "cells": [
  {
   "cell_type": "code",
   "metadata": {
    "collapsed": true
   },
   "source": [
    "import os\n",
    "import numpy as np\n",
    "print(f\"当前目录: {os.getcwd()}\")\n",
    "if 'arch-gaussian' in os.listdir():\n",
    "    os.chdir('arch-gaussian')\n",
    "    print(f\"更改后的目录: {os.getcwd()}\")"
   ],
   "outputs": [],
   "execution_count": null
  },
  {
   "cell_type": "code",
   "source": [
    "import config"
   ],
   "metadata": {
    "collapsed": false
   },
   "outputs": [],
   "execution_count": null
  },
  {
   "cell_type": "code",
   "source": [],
   "metadata": {
    "collapsed": false
   },
   "outputs": [],
   "execution_count": null
  },
  {
   "cell_type": "code",
   "source": [
    "import numpy as np\n",
    "\n",
    "def generate_x_lines(size, gap = 0.5):\n",
    "    # 生成 x 方向上每条线的起点和终点坐标\n",
    "\n",
    "    x_start = np.arange(-size, size + gap * 0.5, gap)  # x 起点坐标\n",
    "    num = len(x_start)\n",
    "    y_start = np.zeros(num) - size   # y 起点坐标\n",
    "    z_start = np.zeros(num)   # z 起点坐标\n",
    "    \n",
    "    x_end = x_start         # x 终点坐标与起点相同\n",
    "    y_end = y_start + size * 2     # y 终点坐标偏移 4\n",
    "    z_end = z_start         # z 终点坐标与起点相同\n",
    "    \n",
    "    # 组合起点和终点坐标\n",
    "    start_points = np.column_stack((x_start, y_start, z_start))\n",
    "    end_points = np.column_stack((x_end, y_end, z_end))\n",
    "    \n",
    "    # 将起点-终点坐标按照起点-终点-起点-终点...的顺序排列\n",
    "    points = np.array([[start, end] for start, end in zip(start_points, end_points)]).reshape(-1, 2, 3)\n",
    "    \n",
    "    return points\n",
    "\n",
    "def generate_y_lines(size, gap = 0.5):\n",
    "    # 生成 x 方向上每条线的起点和终点坐标\n",
    "\n",
    "    y_start = np.arange(-size, size + gap * 0.5, gap)  # y 起点坐标\n",
    "    num = len(y_start)\n",
    "    x_start = np.zeros(num) - size   # x 起点坐标\n",
    "    z_start = np.zeros(num)   # z 起点坐标\n",
    "    \n",
    "    y_end = x_start         # y 终点坐标与起点相同\n",
    "    x_end = y_start + size * 2     # x 终点坐标偏移 4\n",
    "    z_end = z_start         # z 终点坐标与起点相同\n",
    "    \n",
    "    # 组合起点和终点坐标\n",
    "    start_points = np.column_stack((x_start, y_start, z_start))\n",
    "    end_points = np.column_stack((x_end, y_end, z_end))\n",
    "    \n",
    "    # 将起点-终点坐标按照起点-终点-起点-终点...的顺序排列\n",
    "    points = np.array([[start, end] for start, end in zip(start_points, end_points)]).reshape(-1, 2, 3)\n",
    "\n",
    "    return points\n",
    "\n",
    "x_lines = generate_x_lines(5, 1)\n",
    "y_lines = generate_y_lines(5, 1)\n",
    "result = np.vstack((x_lines, y_lines))"
   ],
   "metadata": {
    "collapsed": false
   },
   "outputs": [],
   "execution_count": null
  },
  {
   "metadata": {},
   "cell_type": "code",
   "source": "",
   "outputs": [],
   "execution_count": null
  }
 ],
 "metadata": {
  "kernelspec": {
   "display_name": "Python 3",
   "language": "python",
   "name": "python3"
  },
  "language_info": {
   "codemirror_mode": {
    "name": "ipython",
    "version": 2
   },
   "file_extension": ".py",
   "mimetype": "text/x-python",
   "name": "python",
   "nbconvert_exporter": "python",
   "pygments_lexer": "ipython2",
   "version": "2.7.6"
  }
 },
 "nbformat": 4,
 "nbformat_minor": 0
}
